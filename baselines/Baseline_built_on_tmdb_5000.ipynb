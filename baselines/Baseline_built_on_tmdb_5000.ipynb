{
 "cells": [
  {
   "cell_type": "code",
   "execution_count": 1,
   "id": "987aa9f6",
   "metadata": {},
   "outputs": [],
   "source": [
    "import numpy as np # linear algebra\n",
    "import pandas as pd # data processing, CSV file I/O (e.g. pd.read_csv)\n",
    "import ast\n",
    "from sklearn.feature_extraction.text import TfidfVectorizer\n",
    "from sklearn.metrics.pairwise import linear_kernel\n",
    "from nltk.tokenize import sent_tokenize, word_tokenize\n",
    "from nltk.stem import PorterStemmer\n",
    "\n",
    "def stemSentence_porter(sentence):\n",
    "    porter = PorterStemmer()\n",
    "    token_words=word_tokenize(sentence)\n",
    "    stem_sentence=[]\n",
    "    for word in token_words:\n",
    "        stem_sentence.append(porter.stem(word))\n",
    "        stem_sentence.append(\" \")\n",
    "    return \"\".join(stem_sentence)\n",
    "\n",
    "def convert(text):\n",
    "    L = []\n",
    "    for i in ast.literal_eval(text):\n",
    "        L.append(i['name']) \n",
    "    return L \n",
    "\n",
    "\n",
    "def fetch_director(text):\n",
    "    L = []\n",
    "    for i in ast.literal_eval(text):\n",
    "        if i['job'] == 'Director':\n",
    "            L.append(i['name'])\n",
    "    return L \n",
    "\n",
    "\n",
    "def collapse(L):\n",
    "    L1 = []\n",
    "    for i in L:\n",
    "        L1.append(i.replace(\" \",\"\"))\n",
    "    return L1"
   ]
  },
  {
   "cell_type": "code",
   "execution_count": 96,
   "id": "cd87778c",
   "metadata": {},
   "outputs": [],
   "source": [
    "movies = pd.read_csv('../tmdb_5000_data/tmdb_5000_movies.csv')\n",
    "credits = pd.read_csv('../tmdb_5000_data/tmdb_5000_credits.csv') \n",
    "movies = movies.merge(credits,on='title')\n",
    "movies.dropna(inplace=True)"
   ]
  },
  {
   "cell_type": "code",
   "execution_count": 97,
   "id": "d82b5120",
   "metadata": {},
   "outputs": [],
   "source": [
    "movies['release_year'] = movies.release_date.apply(lambda x: x.split(\"-\")[0]).astype(int)"
   ]
  },
  {
   "cell_type": "code",
   "execution_count": 98,
   "id": "8b9aedcc",
   "metadata": {},
   "outputs": [],
   "source": [
    "movies = movies[movies['release_year']>1970]"
   ]
  },
  {
   "cell_type": "code",
   "execution_count": 99,
   "id": "d4f96b7e",
   "metadata": {},
   "outputs": [],
   "source": [
    "movies = movies[['movie_id','title','release_year','overview','genres','keywords','cast','crew']]"
   ]
  },
  {
   "cell_type": "code",
   "execution_count": 100,
   "id": "9422de43",
   "metadata": {},
   "outputs": [],
   "source": [
    "movies['genres'] = movies['genres'].apply(convert)\n",
    "\n",
    "movies['keywords'] = movies['keywords'].apply(convert)\n",
    "\n",
    "movies['cast'] = movies['cast'].apply(convert)\n",
    "\n",
    "movies['cast'] = movies['cast'].apply(lambda x:x[0:3])\n",
    "\n",
    "movies['crew'] = movies['crew'].apply(fetch_director)\n",
    "\n",
    "\n",
    "movies['cast'] = movies['cast'].apply(collapse)\n",
    "movies['crew'] = movies['crew'].apply(collapse)\n",
    "movies['genres'] = movies['genres'].apply(collapse)\n",
    "movies['keywords'] = movies['keywords'].apply(collapse)\n",
    "\n",
    "movies['overview'] = movies['overview'].apply(lambda x:x.split())\n",
    "movies['release_year'] = movies['release_year'].astype(str).apply(lambda x:x.split())\n",
    "movies['tags'] = movies['overview'] + movies['genres'] + movies['release_year'] + movies['keywords'] + movies['cast'] + movies['crew']\n",
    "new = movies.drop(columns=['overview','genres','keywords','cast','crew','release_year'])\n",
    "new['tags'] = new['tags'].apply(lambda x: \" \".join(x))"
   ]
  },
  {
   "cell_type": "code",
   "execution_count": 101,
   "id": "e20167c4",
   "metadata": {},
   "outputs": [],
   "source": [
    "new = new[(new['tags'].notnull())].reset_index(drop=True)\n",
    "new['tags'] = new['tags'].apply(stemSentence_porter)\n",
    "new = new.reset_index(drop=True)"
   ]
  },
  {
   "cell_type": "code",
   "execution_count": 102,
   "id": "b9219086",
   "metadata": {},
   "outputs": [
    {
     "data": {
      "text/html": [
       "<div>\n",
       "<style scoped>\n",
       "    .dataframe tbody tr th:only-of-type {\n",
       "        vertical-align: middle;\n",
       "    }\n",
       "\n",
       "    .dataframe tbody tr th {\n",
       "        vertical-align: top;\n",
       "    }\n",
       "\n",
       "    .dataframe thead th {\n",
       "        text-align: right;\n",
       "    }\n",
       "</style>\n",
       "<table border=\"1\" class=\"dataframe\">\n",
       "  <thead>\n",
       "    <tr style=\"text-align: right;\">\n",
       "      <th></th>\n",
       "      <th>movie_id</th>\n",
       "      <th>title</th>\n",
       "      <th>tags</th>\n",
       "    </tr>\n",
       "  </thead>\n",
       "  <tbody>\n",
       "    <tr>\n",
       "      <th>0</th>\n",
       "      <td>19995</td>\n",
       "      <td>Avatar</td>\n",
       "      <td>in the 22nd centuri , a parapleg marin is disp...</td>\n",
       "    </tr>\n",
       "    <tr>\n",
       "      <th>1</th>\n",
       "      <td>285</td>\n",
       "      <td>Pirates of the Caribbean: At World's End</td>\n",
       "      <td>captain barbossa , long believ to be dead , ha...</td>\n",
       "    </tr>\n",
       "    <tr>\n",
       "      <th>2</th>\n",
       "      <td>206647</td>\n",
       "      <td>Spectre</td>\n",
       "      <td>a cryptic messag from bond ’ s past send him o...</td>\n",
       "    </tr>\n",
       "    <tr>\n",
       "      <th>3</th>\n",
       "      <td>49026</td>\n",
       "      <td>The Dark Knight Rises</td>\n",
       "      <td>follow the death of district attorney harvey d...</td>\n",
       "    </tr>\n",
       "    <tr>\n",
       "      <th>4</th>\n",
       "      <td>49529</td>\n",
       "      <td>John Carter</td>\n",
       "      <td>john carter is a war-weari , former militari c...</td>\n",
       "    </tr>\n",
       "    <tr>\n",
       "      <th>...</th>\n",
       "      <td>...</td>\n",
       "      <td>...</td>\n",
       "      <td>...</td>\n",
       "    </tr>\n",
       "    <tr>\n",
       "      <th>1476</th>\n",
       "      <td>2292</td>\n",
       "      <td>Clerks</td>\n",
       "      <td>conveni and video store clerk dant and randal ...</td>\n",
       "    </tr>\n",
       "    <tr>\n",
       "      <th>1477</th>\n",
       "      <td>255266</td>\n",
       "      <td>Dry Spell</td>\n",
       "      <td>sasha tri to get her soon-to-b ex husband kyle...</td>\n",
       "    </tr>\n",
       "    <tr>\n",
       "      <th>1478</th>\n",
       "      <td>157185</td>\n",
       "      <td>Tin Can Man</td>\n",
       "      <td>recent dump by hi girlfirend for anoth man , w...</td>\n",
       "    </tr>\n",
       "    <tr>\n",
       "      <th>1479</th>\n",
       "      <td>14337</td>\n",
       "      <td>Primer</td>\n",
       "      <td>friends/fledgl entrepreneur invent a devic in ...</td>\n",
       "    </tr>\n",
       "    <tr>\n",
       "      <th>1480</th>\n",
       "      <td>126186</td>\n",
       "      <td>Shanghai Calling</td>\n",
       "      <td>when ambiti new york attorney sam is sent to s...</td>\n",
       "    </tr>\n",
       "  </tbody>\n",
       "</table>\n",
       "<p>1481 rows × 3 columns</p>\n",
       "</div>"
      ],
      "text/plain": [
       "      movie_id                                     title  \\\n",
       "0        19995                                    Avatar   \n",
       "1          285  Pirates of the Caribbean: At World's End   \n",
       "2       206647                                   Spectre   \n",
       "3        49026                     The Dark Knight Rises   \n",
       "4        49529                               John Carter   \n",
       "...        ...                                       ...   \n",
       "1476      2292                                    Clerks   \n",
       "1477    255266                                 Dry Spell   \n",
       "1478    157185                               Tin Can Man   \n",
       "1479     14337                                    Primer   \n",
       "1480    126186                          Shanghai Calling   \n",
       "\n",
       "                                                   tags  \n",
       "0     in the 22nd centuri , a parapleg marin is disp...  \n",
       "1     captain barbossa , long believ to be dead , ha...  \n",
       "2     a cryptic messag from bond ’ s past send him o...  \n",
       "3     follow the death of district attorney harvey d...  \n",
       "4     john carter is a war-weari , former militari c...  \n",
       "...                                                 ...  \n",
       "1476  conveni and video store clerk dant and randal ...  \n",
       "1477  sasha tri to get her soon-to-b ex husband kyle...  \n",
       "1478  recent dump by hi girlfirend for anoth man , w...  \n",
       "1479  friends/fledgl entrepreneur invent a devic in ...  \n",
       "1480  when ambiti new york attorney sam is sent to s...  \n",
       "\n",
       "[1481 rows x 3 columns]"
      ]
     },
     "execution_count": 102,
     "metadata": {},
     "output_type": "execute_result"
    }
   ],
   "source": [
    "new"
   ]
  },
  {
   "cell_type": "code",
   "execution_count": 103,
   "id": "cff76644",
   "metadata": {},
   "outputs": [
    {
     "name": "stdout",
     "output_type": "stream",
     "text": [
      "done!\n"
     ]
    }
   ],
   "source": [
    "tf = TfidfVectorizer(analyzer='word', ngram_range=(1, 3), min_df=0, stop_words='english')\n",
    "tfidf_matrix = tf.fit_transform(new['tags'])\n",
    "\n",
    "cosine_similarities = linear_kernel(tfidf_matrix, tfidf_matrix)\n",
    "\n",
    "results = {}\n",
    "\n",
    "for idx, row in new.iterrows():\n",
    "    similar_indices = cosine_similarities[idx].argsort()[:-100:-1]\n",
    "    similar_items = [(cosine_similarities[idx][i], new['title'][i]) for i in similar_indices]\n",
    "\n",
    "    results[row['title']] = similar_items[1:]\n",
    "    \n",
    "print('done!')\n"
   ]
  },
  {
   "cell_type": "code",
   "execution_count": 104,
   "id": "e28795bd",
   "metadata": {},
   "outputs": [],
   "source": [
    "def item(title):\n",
    "    return new.loc[new['title'] == title]['title'].tolist()[0].split(' - ')[0]\n",
    "\n",
    "# Just reads the results out of the dictionary.\n",
    "def recommend(title, num):\n",
    "    print(\"Recommending \" + str(num) + \" products similar to \" + item(title) + \"...\")\n",
    "    print(\"-------\")\n",
    "    recs = results[title][:num]\n",
    "    for rec in recs:\n",
    "        print(\"Recommended: \" + item(rec[1]) + \" (score:\" + str(rec[0]) + \")\")"
   ]
  },
  {
   "cell_type": "code",
   "execution_count": 105,
   "id": "774b4fe9",
   "metadata": {},
   "outputs": [
    {
     "name": "stdout",
     "output_type": "stream",
     "text": [
      "Recommending 5 products similar to Avatar...\n",
      "-------\n",
      "Recommended: X-Men: Days of Future Past (score:0.037342202491879695)\n",
      "Recommended: Aliens in the Attic (score:0.03645212615666184)\n",
      "Recommended: Battle: Los Angeles (score:0.03560992173935679)\n",
      "Recommended: Meet Dave (score:0.033647779020400885)\n",
      "Recommended: Man of Steel (score:0.03149233272251119)\n"
     ]
    }
   ],
   "source": [
    "recommend(title=\"\"\"Avatar\"\"\", num=5)"
   ]
  },
  {
   "cell_type": "code",
   "execution_count": 110,
   "id": "7ee3fe2c",
   "metadata": {},
   "outputs": [
    {
     "data": {
      "text/plain": [
       "'in the 22nd centuri , a parapleg marin is dispatch to the moon pandora on a uniqu mission , but becom torn between follow order and protect an alien civil . action adventur fantasi sciencefict 2009 cultureclash futur spacewar spacecoloni societi spacetravel futurist romanc space alien tribe alienplanet cgi marin soldier battl loveaffair antiwar powerrel mindandsoul 3d samworthington zoesaldana sigourneyweav jamescameron '"
      ]
     },
     "execution_count": 110,
     "metadata": {},
     "output_type": "execute_result"
    }
   ],
   "source": [
    "new.iloc[0,-1]"
   ]
  },
  {
   "cell_type": "code",
   "execution_count": 120,
   "id": "61aa1957",
   "metadata": {},
   "outputs": [
    {
     "name": "stdout",
     "output_type": "stream",
     "text": [
      "Number of tokens: 138534\n"
     ]
    }
   ],
   "source": [
    "print(\"Number of tokens:\", tfidf_matrix.shape[1])"
   ]
  },
  {
   "cell_type": "code",
   "execution_count": null,
   "id": "910dc685",
   "metadata": {},
   "outputs": [],
   "source": []
  }
 ],
 "metadata": {
  "kernelspec": {
   "display_name": "Python 3 (ipykernel)",
   "language": "python",
   "name": "python3"
  },
  "language_info": {
   "codemirror_mode": {
    "name": "ipython",
    "version": 3
   },
   "file_extension": ".py",
   "mimetype": "text/x-python",
   "name": "python",
   "nbconvert_exporter": "python",
   "pygments_lexer": "ipython3",
   "version": "3.9.12"
  }
 },
 "nbformat": 4,
 "nbformat_minor": 5
}

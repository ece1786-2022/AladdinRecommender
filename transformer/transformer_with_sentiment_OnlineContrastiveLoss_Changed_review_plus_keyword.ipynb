{
  "cells": [
    {
      "cell_type": "code",
      "execution_count": null,
      "id": "6e9c2e0c",
      "metadata": {
        "colab": {
          "base_uri": "https://localhost:8080/"
        },
        "id": "6e9c2e0c",
        "outputId": "b654d59a-ef4b-4902-e134-d9b535546857"
      },
      "outputs": [
        {
          "output_type": "stream",
          "name": "stdout",
          "text": [
            "Looking in indexes: https://pypi.org/simple, https://us-python.pkg.dev/colab-wheels/public/simple/\n",
            "Requirement already satisfied: sentence-transformers in /usr/local/lib/python3.8/dist-packages (2.2.2)\n",
            "Requirement already satisfied: huggingface-hub>=0.4.0 in /usr/local/lib/python3.8/dist-packages (from sentence-transformers) (0.11.1)\n",
            "Requirement already satisfied: tqdm in /usr/local/lib/python3.8/dist-packages (from sentence-transformers) (4.64.1)\n",
            "Requirement already satisfied: torch>=1.6.0 in /usr/local/lib/python3.8/dist-packages (from sentence-transformers) (1.12.1+cu113)\n",
            "Requirement already satisfied: nltk in /usr/local/lib/python3.8/dist-packages (from sentence-transformers) (3.7)\n",
            "Requirement already satisfied: torchvision in /usr/local/lib/python3.8/dist-packages (from sentence-transformers) (0.13.1+cu113)\n",
            "Requirement already satisfied: scikit-learn in /usr/local/lib/python3.8/dist-packages (from sentence-transformers) (1.0.2)\n",
            "Requirement already satisfied: scipy in /usr/local/lib/python3.8/dist-packages (from sentence-transformers) (1.7.3)\n",
            "Requirement already satisfied: transformers<5.0.0,>=4.6.0 in /usr/local/lib/python3.8/dist-packages (from sentence-transformers) (4.24.0)\n",
            "Requirement already satisfied: sentencepiece in /usr/local/lib/python3.8/dist-packages (from sentence-transformers) (0.1.97)\n",
            "Requirement already satisfied: numpy in /usr/local/lib/python3.8/dist-packages (from sentence-transformers) (1.21.6)\n",
            "Requirement already satisfied: requests in /usr/local/lib/python3.8/dist-packages (from huggingface-hub>=0.4.0->sentence-transformers) (2.23.0)\n",
            "Requirement already satisfied: typing-extensions>=3.7.4.3 in /usr/local/lib/python3.8/dist-packages (from huggingface-hub>=0.4.0->sentence-transformers) (4.1.1)\n",
            "Requirement already satisfied: filelock in /usr/local/lib/python3.8/dist-packages (from huggingface-hub>=0.4.0->sentence-transformers) (3.8.0)\n",
            "Requirement already satisfied: packaging>=20.9 in /usr/local/lib/python3.8/dist-packages (from huggingface-hub>=0.4.0->sentence-transformers) (21.3)\n",
            "Requirement already satisfied: pyyaml>=5.1 in /usr/local/lib/python3.8/dist-packages (from huggingface-hub>=0.4.0->sentence-transformers) (6.0)\n",
            "Requirement already satisfied: pyparsing!=3.0.5,>=2.0.2 in /usr/local/lib/python3.8/dist-packages (from packaging>=20.9->huggingface-hub>=0.4.0->sentence-transformers) (3.0.9)\n",
            "Requirement already satisfied: tokenizers!=0.11.3,<0.14,>=0.11.1 in /usr/local/lib/python3.8/dist-packages (from transformers<5.0.0,>=4.6.0->sentence-transformers) (0.13.2)\n",
            "Requirement already satisfied: regex!=2019.12.17 in /usr/local/lib/python3.8/dist-packages (from transformers<5.0.0,>=4.6.0->sentence-transformers) (2022.6.2)\n",
            "Requirement already satisfied: joblib in /usr/local/lib/python3.8/dist-packages (from nltk->sentence-transformers) (1.2.0)\n",
            "Requirement already satisfied: click in /usr/local/lib/python3.8/dist-packages (from nltk->sentence-transformers) (7.1.2)\n",
            "Requirement already satisfied: certifi>=2017.4.17 in /usr/local/lib/python3.8/dist-packages (from requests->huggingface-hub>=0.4.0->sentence-transformers) (2022.9.24)\n",
            "Requirement already satisfied: urllib3!=1.25.0,!=1.25.1,<1.26,>=1.21.1 in /usr/local/lib/python3.8/dist-packages (from requests->huggingface-hub>=0.4.0->sentence-transformers) (1.24.3)\n",
            "Requirement already satisfied: idna<3,>=2.5 in /usr/local/lib/python3.8/dist-packages (from requests->huggingface-hub>=0.4.0->sentence-transformers) (2.10)\n",
            "Requirement already satisfied: chardet<4,>=3.0.2 in /usr/local/lib/python3.8/dist-packages (from requests->huggingface-hub>=0.4.0->sentence-transformers) (3.0.4)\n",
            "Requirement already satisfied: threadpoolctl>=2.0.0 in /usr/local/lib/python3.8/dist-packages (from scikit-learn->sentence-transformers) (3.1.0)\n",
            "Requirement already satisfied: pillow!=8.3.*,>=5.3.0 in /usr/local/lib/python3.8/dist-packages (from torchvision->sentence-transformers) (7.1.2)\n",
            "Looking in indexes: https://pypi.org/simple, https://us-python.pkg.dev/colab-wheels/public/simple/\n",
            "Requirement already satisfied: GPUtil in /usr/local/lib/python3.8/dist-packages (1.4.0)\n"
          ]
        }
      ],
      "source": [
        "!pip install -U sentence-transformers\n",
        "!pip install GPUtil"
      ]
    },
    {
      "cell_type": "code",
      "execution_count": null,
      "id": "0b2c1b9b",
      "metadata": {
        "colab": {
          "base_uri": "https://localhost:8080/"
        },
        "id": "0b2c1b9b",
        "outputId": "9c533273-0949-4cc0-919f-3bb3a2e4378d"
      },
      "outputs": [
        {
          "output_type": "stream",
          "name": "stderr",
          "text": [
            "[nltk_data] Downloading package words to /root/nltk_data...\n",
            "[nltk_data]   Package words is already up-to-date!\n"
          ]
        },
        {
          "output_type": "execute_result",
          "data": {
            "text/plain": [
              "device(type='cuda')"
            ]
          },
          "metadata": {},
          "execution_count": 2
        }
      ],
      "source": [
        "import numpy as np\n",
        "import pandas as pd\n",
        "from sentence_transformers import SentenceTransformer, util\n",
        "from sentence_transformers import evaluation\n",
        "from sentence_transformers.cross_encoder import CrossEncoder\n",
        "import ast\n",
        "from sklearn.feature_extraction.text import TfidfVectorizer\n",
        "from sklearn.metrics.pairwise import linear_kernel\n",
        "from nltk.tokenize import sent_tokenize, word_tokenize\n",
        "from nltk.stem import PorterStemmer\n",
        "import torch\n",
        "import torch.nn as nn\n",
        "import nltk\n",
        "import re\n",
        "nltk.download('words')\n",
        "words = set(nltk.corpus.words.words())\n",
        "\n",
        "def stemSentence_porter(sentence):\n",
        "    porter = PorterStemmer()\n",
        "    token_words=word_tokenize(sentence)\n",
        "    stem_sentence=[]\n",
        "    for word in token_words:\n",
        "        stem_sentence.append(porter.stem(word))\n",
        "        stem_sentence.append(\" \")\n",
        "    return \"\".join(stem_sentence)\n",
        "\n",
        "def convert(text):\n",
        "    L = []\n",
        "    for i in ast.literal_eval(text):\n",
        "        L.append(i['name']) \n",
        "    return L \n",
        "\n",
        "\n",
        "def fetch_director(text):\n",
        "    L = []\n",
        "    for i in ast.literal_eval(text):\n",
        "        if i['job'] == 'Director':\n",
        "            L.append(i['name'])\n",
        "    return L \n",
        "\n",
        "\n",
        "def collapse(L):\n",
        "    L1 = []\n",
        "    for i in L:\n",
        "        L1.append(i.replace(\" \",\"\"))\n",
        "    return L1\n",
        "\n",
        "def clean_text(text):\n",
        "    # remove backslash-apostrophe \n",
        "    text = re.sub(\"\\'\", \"\", text) \n",
        "    # remove everything except alphabets \n",
        "    text = re.sub(\"[^a-zA-Z0-9,.’]\",\" \",text) \n",
        "    # remove whitespaces \n",
        "    text = ' '.join(text.split()) \n",
        "    # convert text to lowercase \n",
        "    \n",
        "    return text\n",
        "\n",
        "def get_cosine_sim(model, df):\n",
        "    scores = []\n",
        "    for row in zip(df['tags'], df['reviews']):\n",
        "        scores.append(util.cos_sim(model.encode(row[0]), model.encode(row[1])))\n",
        "    return scores\n",
        "\n",
        "device = torch.device(\"cuda\" if torch.cuda.is_available() else \"cpu\")\n",
        "device"
      ]
    },
    {
      "cell_type": "code",
      "execution_count": null,
      "id": "51f0e440",
      "metadata": {
        "id": "51f0e440"
      },
      "outputs": [],
      "source": [
        "movies = pd.read_csv('/content/tmdb_5000_movies.csv')\n",
        "credits = pd.read_csv('/content/tmdb_5000_credits.csv') \n",
        "movies = movies.merge(credits,on='title')\n",
        "\n",
        "reviews = pd.read_csv('/content/2022-11-19_movie_info_with_reviews.csv')\n",
        "reviews = reviews[['id','reviews']]\n",
        "reviews['reviews'] = reviews['reviews'].apply(lambda x: list(map(clean_text, x.split(\"\\',\"))))\n",
        "movies = movies.merge(reviews,on='id', how='left')\n",
        "\n",
        "movies.dropna(inplace=True)\n",
        "movies['release_year'] = movies.release_date.apply(lambda x: x.split(\"-\")[0]).astype(int)\n",
        "movies = movies[movies['release_year']>1970]\n",
        "\n",
        "movies = movies[['movie_id','title','release_year','overview','genres','keywords','cast','crew','reviews']]\n",
        "movies.dropna(inplace=True)\n",
        "\n",
        "movies['genres'] = movies['genres'].apply(convert)\n",
        "\n",
        "movies['keywords'] = movies['keywords'].apply(convert)\n",
        "\n",
        "movies['cast'] = movies['cast'].apply(convert)\n",
        "\n",
        "movies['cast'] = movies['cast'].apply(lambda x:x[0:3])\n",
        "\n",
        "movies['crew'] = movies['crew'].apply(fetch_director)\n",
        "\n",
        "\n",
        "movies['crew'] = movies['crew'].apply(lambda x: [\" \".join(\\\n",
        "        w for w in nltk.wordpunct_tokenize(i) \\\n",
        "         if w.lower() in words or not w.isalpha()) for i in x])\n"
      ]
    },
    {
      "cell_type": "code",
      "execution_count": null,
      "id": "5c9eadbf",
      "metadata": {
        "id": "5c9eadbf"
      },
      "outputs": [],
      "source": [
        "movies['overview'] = movies['overview'].apply(lambda x:x.split(' '))\n",
        "movies['overview'] = movies['overview'].apply(lambda x:' '.join(x))\n",
        "movies['release_year'] = movies['release_year'].astype(str).apply(lambda x:x.split())\n",
        "movies['genres'] = ' The genre is' + movies['genres'].astype(str)\n",
        "movies['keywords'] = \" The keywords are \" + movies['keywords'].astype(str)\n",
        "movies['tags'] = movies['overview'] + movies['genres'] + movies['keywords']\n",
        "new = movies.drop(columns=['overview','genres','keywords','cast','crew','release_year'])\n",
        "new['tags'] = new['tags']\n",
        "new = new[(new['tags'].notnull())].reset_index(drop=True)\n",
        "new = new[new[\"reviews\"].str.len() != 0].reset_index(drop=True)"
      ]
    },
    {
      "cell_type": "code",
      "execution_count": null,
      "id": "e1162e28",
      "metadata": {
        "id": "e1162e28"
      },
      "outputs": [],
      "source": [
        "new = new.explode(['reviews'])\n",
        "new = new[(new['reviews']!='') & (new['reviews'].str.len() >= 3)].reset_index(drop=True)\n",
        "# new.to_csv(\"../tmdb_5000_data/Cleaned_Filtered_Plots_Reviews\")"
      ]
    },
    {
      "cell_type": "code",
      "execution_count": null,
      "id": "9f2836fc",
      "metadata": {
        "colab": {
          "base_uri": "https://localhost:8080/"
        },
        "id": "9f2836fc",
        "outputId": "98ea6308-6f68-4c23-c702-e568a20e2bc4"
      },
      "outputs": [
        {
          "output_type": "stream",
          "name": "stderr",
          "text": [
            "/usr/local/lib/python3.8/dist-packages/transformers/models/auto/modeling_auto.py:1132: FutureWarning: The class `AutoModelWithLMHead` is deprecated and will be removed in a future version. Please use `AutoModelForCausalLM` for causal language models, `AutoModelForMaskedLM` for masked language models and `AutoModelForSeq2SeqLM` for encoder-decoder models.\n",
            "  warnings.warn(\n"
          ]
        }
      ],
      "source": [
        "from transformers import AutoTokenizer, AutoModelWithLMHead\n",
        "\n",
        "tokenizer = AutoTokenizer.from_pretrained(\"mrm8488/t5-base-finetuned-imdb-sentiment\")\n",
        "\n",
        "model = AutoModelWithLMHead.from_pretrained(\"mrm8488/t5-base-finetuned-imdb-sentiment\")\n",
        "model = model.to(device)\n",
        "def get_sentiment(text):\n",
        "  input_ids = tokenizer.encode(text + '</s>', return_tensors='pt').to(device)\n",
        "\n",
        "  output = model.generate(input_ids=input_ids,\n",
        "               max_length=2)\n",
        "  \n",
        "  dec = [tokenizer.decode(ids) for ids in output]\n",
        "  label = dec[0]\n",
        "  return label"
      ]
    },
    {
      "cell_type": "code",
      "execution_count": null,
      "id": "66209f57",
      "metadata": {
        "id": "66209f57"
      },
      "outputs": [],
      "source": [
        "new['review_sentiment'] = new['reviews'].apply(lambda x: get_sentiment(x)[6:])"
      ]
    },
    {
      "cell_type": "code",
      "execution_count": null,
      "id": "16a705c8",
      "metadata": {
        "id": "16a705c8"
      },
      "outputs": [],
      "source": [
        "new['sentiment_score'] = new['review_sentiment'].map({'positive': 1, 'negative': 0})"
      ]
    },
    {
      "cell_type": "code",
      "execution_count": null,
      "id": "84449777",
      "metadata": {
        "colab": {
          "base_uri": "https://localhost:8080/"
        },
        "id": "84449777",
        "outputId": "6898e39b-9da8-486b-aca2-dd68895ca310"
      },
      "outputs": [
        {
          "output_type": "execute_result",
          "data": {
            "text/plain": [
              "array([1, 0])"
            ]
          },
          "metadata": {},
          "execution_count": 14
        }
      ],
      "source": [
        "new.sentiment_score.unique()"
      ]
    },
    {
      "cell_type": "code",
      "execution_count": null,
      "id": "O6gooE0MFBr5",
      "metadata": {
        "id": "O6gooE0MFBr5"
      },
      "outputs": [],
      "source": [
        "new = new[(new['reviews']!='') & (new['reviews'].str.len() >= 3)].reset_index(drop=True)"
      ]
    },
    {
      "cell_type": "code",
      "execution_count": null,
      "id": "d8119400",
      "metadata": {
        "id": "d8119400"
      },
      "outputs": [],
      "source": [
        "new.to_csv(\"temp.csv\")"
      ]
    },
    {
      "cell_type": "code",
      "execution_count": null,
      "id": "X3djmVVptjcw",
      "metadata": {
        "id": "X3djmVVptjcw"
      },
      "outputs": [],
      "source": [
        "new = pd.read_csv('/content/temp.csv', index_col = 0) "
      ]
    },
    {
      "cell_type": "code",
      "source": [
        "new"
      ],
      "metadata": {
        "colab": {
          "base_uri": "https://localhost:8080/",
          "height": 424
        },
        "id": "U_98vuLjyZY-",
        "outputId": "f42f6cc2-00da-41a2-ebca-cfef8f6aa89a"
      },
      "id": "U_98vuLjyZY-",
      "execution_count": null,
      "outputs": [
        {
          "output_type": "execute_result",
          "data": {
            "text/plain": [
              "       movie_id             title  \\\n",
              "0         19995            Avatar   \n",
              "1         19995            Avatar   \n",
              "2         19995            Avatar   \n",
              "3         19995            Avatar   \n",
              "4         19995            Avatar   \n",
              "...         ...               ...   \n",
              "10895    126186  Shanghai Calling   \n",
              "10896    126186  Shanghai Calling   \n",
              "10897    126186  Shanghai Calling   \n",
              "10898    126186  Shanghai Calling   \n",
              "10899    126186  Shanghai Calling   \n",
              "\n",
              "                                                 reviews  \\\n",
              "0      Cameron’s epic can still thrill the audience w...   \n",
              "1      Avatar still elicits much of the same wide eye...   \n",
              "2      The emotional stakes presented in the final ba...   \n",
              "3      Thirteen years after its release, Avatar still...   \n",
              "4      A meaningful blockbuster that fails to play ig...   \n",
              "...                                                  ...   \n",
              "10895  Shanghai Calling doesnt aspire to fresh insigh...   \n",
              "10896  If you prefer your social commentary in the fo...   \n",
              "10897  Shanghai Calling eventually reveals itself to ...   \n",
              "10898  Through it all, Henney is an appealing screen ...   \n",
              "10899  Light mainstream feature has enough charisma a...   \n",
              "\n",
              "                                                    tags review_sentiment  \\\n",
              "0      In the 22nd century, a paraplegic Marine is di...         positive   \n",
              "1      In the 22nd century, a paraplegic Marine is di...         positive   \n",
              "2      In the 22nd century, a paraplegic Marine is di...         positive   \n",
              "3      In the 22nd century, a paraplegic Marine is di...         positive   \n",
              "4      In the 22nd century, a paraplegic Marine is di...         positive   \n",
              "...                                                  ...              ...   \n",
              "10895  When ambitious New York attorney Sam is sent t...         positive   \n",
              "10896  When ambitious New York attorney Sam is sent t...         negative   \n",
              "10897  When ambitious New York attorney Sam is sent t...         negative   \n",
              "10898  When ambitious New York attorney Sam is sent t...         negative   \n",
              "10899  When ambitious New York attorney Sam is sent t...         positive   \n",
              "\n",
              "       sentiment_score  \n",
              "0                    1  \n",
              "1                    1  \n",
              "2                    1  \n",
              "3                    1  \n",
              "4                    1  \n",
              "...                ...  \n",
              "10895                1  \n",
              "10896                0  \n",
              "10897                0  \n",
              "10898                0  \n",
              "10899                1  \n",
              "\n",
              "[10900 rows x 6 columns]"
            ],
            "text/html": [
              "\n",
              "  <div id=\"df-cef758cc-ce08-4d01-832f-74f3fbd1ccd3\">\n",
              "    <div class=\"colab-df-container\">\n",
              "      <div>\n",
              "<style scoped>\n",
              "    .dataframe tbody tr th:only-of-type {\n",
              "        vertical-align: middle;\n",
              "    }\n",
              "\n",
              "    .dataframe tbody tr th {\n",
              "        vertical-align: top;\n",
              "    }\n",
              "\n",
              "    .dataframe thead th {\n",
              "        text-align: right;\n",
              "    }\n",
              "</style>\n",
              "<table border=\"1\" class=\"dataframe\">\n",
              "  <thead>\n",
              "    <tr style=\"text-align: right;\">\n",
              "      <th></th>\n",
              "      <th>movie_id</th>\n",
              "      <th>title</th>\n",
              "      <th>reviews</th>\n",
              "      <th>tags</th>\n",
              "      <th>review_sentiment</th>\n",
              "      <th>sentiment_score</th>\n",
              "    </tr>\n",
              "  </thead>\n",
              "  <tbody>\n",
              "    <tr>\n",
              "      <th>0</th>\n",
              "      <td>19995</td>\n",
              "      <td>Avatar</td>\n",
              "      <td>Cameron’s epic can still thrill the audience w...</td>\n",
              "      <td>In the 22nd century, a paraplegic Marine is di...</td>\n",
              "      <td>positive</td>\n",
              "      <td>1</td>\n",
              "    </tr>\n",
              "    <tr>\n",
              "      <th>1</th>\n",
              "      <td>19995</td>\n",
              "      <td>Avatar</td>\n",
              "      <td>Avatar still elicits much of the same wide eye...</td>\n",
              "      <td>In the 22nd century, a paraplegic Marine is di...</td>\n",
              "      <td>positive</td>\n",
              "      <td>1</td>\n",
              "    </tr>\n",
              "    <tr>\n",
              "      <th>2</th>\n",
              "      <td>19995</td>\n",
              "      <td>Avatar</td>\n",
              "      <td>The emotional stakes presented in the final ba...</td>\n",
              "      <td>In the 22nd century, a paraplegic Marine is di...</td>\n",
              "      <td>positive</td>\n",
              "      <td>1</td>\n",
              "    </tr>\n",
              "    <tr>\n",
              "      <th>3</th>\n",
              "      <td>19995</td>\n",
              "      <td>Avatar</td>\n",
              "      <td>Thirteen years after its release, Avatar still...</td>\n",
              "      <td>In the 22nd century, a paraplegic Marine is di...</td>\n",
              "      <td>positive</td>\n",
              "      <td>1</td>\n",
              "    </tr>\n",
              "    <tr>\n",
              "      <th>4</th>\n",
              "      <td>19995</td>\n",
              "      <td>Avatar</td>\n",
              "      <td>A meaningful blockbuster that fails to play ig...</td>\n",
              "      <td>In the 22nd century, a paraplegic Marine is di...</td>\n",
              "      <td>positive</td>\n",
              "      <td>1</td>\n",
              "    </tr>\n",
              "    <tr>\n",
              "      <th>...</th>\n",
              "      <td>...</td>\n",
              "      <td>...</td>\n",
              "      <td>...</td>\n",
              "      <td>...</td>\n",
              "      <td>...</td>\n",
              "      <td>...</td>\n",
              "    </tr>\n",
              "    <tr>\n",
              "      <th>10895</th>\n",
              "      <td>126186</td>\n",
              "      <td>Shanghai Calling</td>\n",
              "      <td>Shanghai Calling doesnt aspire to fresh insigh...</td>\n",
              "      <td>When ambitious New York attorney Sam is sent t...</td>\n",
              "      <td>positive</td>\n",
              "      <td>1</td>\n",
              "    </tr>\n",
              "    <tr>\n",
              "      <th>10896</th>\n",
              "      <td>126186</td>\n",
              "      <td>Shanghai Calling</td>\n",
              "      <td>If you prefer your social commentary in the fo...</td>\n",
              "      <td>When ambitious New York attorney Sam is sent t...</td>\n",
              "      <td>negative</td>\n",
              "      <td>0</td>\n",
              "    </tr>\n",
              "    <tr>\n",
              "      <th>10897</th>\n",
              "      <td>126186</td>\n",
              "      <td>Shanghai Calling</td>\n",
              "      <td>Shanghai Calling eventually reveals itself to ...</td>\n",
              "      <td>When ambitious New York attorney Sam is sent t...</td>\n",
              "      <td>negative</td>\n",
              "      <td>0</td>\n",
              "    </tr>\n",
              "    <tr>\n",
              "      <th>10898</th>\n",
              "      <td>126186</td>\n",
              "      <td>Shanghai Calling</td>\n",
              "      <td>Through it all, Henney is an appealing screen ...</td>\n",
              "      <td>When ambitious New York attorney Sam is sent t...</td>\n",
              "      <td>negative</td>\n",
              "      <td>0</td>\n",
              "    </tr>\n",
              "    <tr>\n",
              "      <th>10899</th>\n",
              "      <td>126186</td>\n",
              "      <td>Shanghai Calling</td>\n",
              "      <td>Light mainstream feature has enough charisma a...</td>\n",
              "      <td>When ambitious New York attorney Sam is sent t...</td>\n",
              "      <td>positive</td>\n",
              "      <td>1</td>\n",
              "    </tr>\n",
              "  </tbody>\n",
              "</table>\n",
              "<p>10900 rows × 6 columns</p>\n",
              "</div>\n",
              "      <button class=\"colab-df-convert\" onclick=\"convertToInteractive('df-cef758cc-ce08-4d01-832f-74f3fbd1ccd3')\"\n",
              "              title=\"Convert this dataframe to an interactive table.\"\n",
              "              style=\"display:none;\">\n",
              "        \n",
              "  <svg xmlns=\"http://www.w3.org/2000/svg\" height=\"24px\"viewBox=\"0 0 24 24\"\n",
              "       width=\"24px\">\n",
              "    <path d=\"M0 0h24v24H0V0z\" fill=\"none\"/>\n",
              "    <path d=\"M18.56 5.44l.94 2.06.94-2.06 2.06-.94-2.06-.94-.94-2.06-.94 2.06-2.06.94zm-11 1L8.5 8.5l.94-2.06 2.06-.94-2.06-.94L8.5 2.5l-.94 2.06-2.06.94zm10 10l.94 2.06.94-2.06 2.06-.94-2.06-.94-.94-2.06-.94 2.06-2.06.94z\"/><path d=\"M17.41 7.96l-1.37-1.37c-.4-.4-.92-.59-1.43-.59-.52 0-1.04.2-1.43.59L10.3 9.45l-7.72 7.72c-.78.78-.78 2.05 0 2.83L4 21.41c.39.39.9.59 1.41.59.51 0 1.02-.2 1.41-.59l7.78-7.78 2.81-2.81c.8-.78.8-2.07 0-2.86zM5.41 20L4 18.59l7.72-7.72 1.47 1.35L5.41 20z\"/>\n",
              "  </svg>\n",
              "      </button>\n",
              "      \n",
              "  <style>\n",
              "    .colab-df-container {\n",
              "      display:flex;\n",
              "      flex-wrap:wrap;\n",
              "      gap: 12px;\n",
              "    }\n",
              "\n",
              "    .colab-df-convert {\n",
              "      background-color: #E8F0FE;\n",
              "      border: none;\n",
              "      border-radius: 50%;\n",
              "      cursor: pointer;\n",
              "      display: none;\n",
              "      fill: #1967D2;\n",
              "      height: 32px;\n",
              "      padding: 0 0 0 0;\n",
              "      width: 32px;\n",
              "    }\n",
              "\n",
              "    .colab-df-convert:hover {\n",
              "      background-color: #E2EBFA;\n",
              "      box-shadow: 0px 1px 2px rgba(60, 64, 67, 0.3), 0px 1px 3px 1px rgba(60, 64, 67, 0.15);\n",
              "      fill: #174EA6;\n",
              "    }\n",
              "\n",
              "    [theme=dark] .colab-df-convert {\n",
              "      background-color: #3B4455;\n",
              "      fill: #D2E3FC;\n",
              "    }\n",
              "\n",
              "    [theme=dark] .colab-df-convert:hover {\n",
              "      background-color: #434B5C;\n",
              "      box-shadow: 0px 1px 3px 1px rgba(0, 0, 0, 0.15);\n",
              "      filter: drop-shadow(0px 1px 2px rgba(0, 0, 0, 0.3));\n",
              "      fill: #FFFFFF;\n",
              "    }\n",
              "  </style>\n",
              "\n",
              "      <script>\n",
              "        const buttonEl =\n",
              "          document.querySelector('#df-cef758cc-ce08-4d01-832f-74f3fbd1ccd3 button.colab-df-convert');\n",
              "        buttonEl.style.display =\n",
              "          google.colab.kernel.accessAllowed ? 'block' : 'none';\n",
              "\n",
              "        async function convertToInteractive(key) {\n",
              "          const element = document.querySelector('#df-cef758cc-ce08-4d01-832f-74f3fbd1ccd3');\n",
              "          const dataTable =\n",
              "            await google.colab.kernel.invokeFunction('convertToInteractive',\n",
              "                                                     [key], {});\n",
              "          if (!dataTable) return;\n",
              "\n",
              "          const docLinkHtml = 'Like what you see? Visit the ' +\n",
              "            '<a target=\"_blank\" href=https://colab.research.google.com/notebooks/data_table.ipynb>data table notebook</a>'\n",
              "            + ' to learn more about interactive tables.';\n",
              "          element.innerHTML = '';\n",
              "          dataTable['output_type'] = 'display_data';\n",
              "          await google.colab.output.renderOutput(dataTable, element);\n",
              "          const docLink = document.createElement('div');\n",
              "          docLink.innerHTML = docLinkHtml;\n",
              "          element.appendChild(docLink);\n",
              "        }\n",
              "      </script>\n",
              "    </div>\n",
              "  </div>\n",
              "  "
            ]
          },
          "metadata": {},
          "execution_count": 27
        }
      ]
    },
    {
      "cell_type": "code",
      "execution_count": null,
      "id": "cbf6702a",
      "metadata": {
        "id": "cbf6702a"
      },
      "outputs": [],
      "source": [
        "from sentence_transformers import models, losses, InputExample\n",
        "from torch.utils.data import DataLoader\n",
        "from sentence_transformers import evaluation"
      ]
    },
    {
      "cell_type": "code",
      "execution_count": null,
      "id": "8341a9ac",
      "metadata": {
        "colab": {
          "base_uri": "https://localhost:8080/"
        },
        "id": "8341a9ac",
        "outputId": "a594d749-9ac5-44a8-cf72-af85d9cbc8d9"
      },
      "outputs": [
        {
          "output_type": "stream",
          "name": "stderr",
          "text": [
            "Some weights of the model checkpoint at microsoft/mpnet-base were not used when initializing MPNetModel: ['lm_head.layer_norm.weight', 'lm_head.bias', 'lm_head.dense.weight', 'lm_head.decoder.weight', 'lm_head.decoder.bias', 'lm_head.dense.bias', 'lm_head.layer_norm.bias']\n",
            "- This IS expected if you are initializing MPNetModel from the checkpoint of a model trained on another task or with another architecture (e.g. initializing a BertForSequenceClassification model from a BertForPreTraining model).\n",
            "- This IS NOT expected if you are initializing MPNetModel from the checkpoint of a model that you expect to be exactly identical (initializing a BertForSequenceClassification model from a BertForSequenceClassification model).\n",
            "Some weights of MPNetModel were not initialized from the model checkpoint at microsoft/mpnet-base and are newly initialized: ['mpnet.pooler.dense.weight', 'mpnet.pooler.dense.bias']\n",
            "You should probably TRAIN this model on a down-stream task to be able to use it for predictions and inference.\n"
          ]
        }
      ],
      "source": [
        "# microsoft/mpnet-base\n",
        "# sentence-transformers/stsb-bert-large\n",
        "word_embedding_model = models.Transformer('microsoft/mpnet-base').to(device)"
      ]
    },
    {
      "cell_type": "code",
      "execution_count": null,
      "id": "3562c1b4",
      "metadata": {
        "id": "3562c1b4"
      },
      "outputs": [],
      "source": [
        "pooling_model = models.Pooling(word_embedding_model.get_word_embedding_dimension(), \n",
        "                                  pooling_mode_mean_tokens=True, \n",
        "                                  pooling_mode_cls_token=False, \n",
        "                                  pooling_mode_max_tokens=False\n",
        "                              )"
      ]
    },
    {
      "cell_type": "code",
      "execution_count": null,
      "id": "7908a249",
      "metadata": {
        "id": "7908a249"
      },
      "outputs": [],
      "source": [
        "# update the model\n",
        "sent_model = SentenceTransformer(modules=[word_embedding_model, pooling_model]).to(device)"
      ]
    },
    {
      "cell_type": "code",
      "execution_count": null,
      "id": "9f701ad8",
      "metadata": {
        "id": "9f701ad8"
      },
      "outputs": [],
      "source": [
        "train_examples = []\n",
        "\n",
        "for index, row in enumerate(zip(new['tags'], new['reviews'], new['sentiment_score'])):\n",
        "#     train_examples.append(InputExample(texts=[row[0], row[1]], label = [scores[index]]))\n",
        "    train_examples.append(InputExample(texts=[row[0], row[1]], label = row[2]))    "
      ]
    },
    {
      "cell_type": "code",
      "execution_count": null,
      "id": "63f1d288",
      "metadata": {
        "id": "63f1d288"
      },
      "outputs": [],
      "source": [
        "train_dataloader = DataLoader(train_examples, shuffle=True, batch_size=8)\n",
        "# ContrastiveLoss\n",
        "# MarginMSELoss\n",
        "# OnlineContrastiveLoss\n",
        "# TripletLoss\n",
        "train_loss = losses.OnlineContrastiveLoss(sent_model)"
      ]
    },
    {
      "cell_type": "code",
      "execution_count": null,
      "id": "720899d5",
      "metadata": {
        "id": "720899d5"
      },
      "outputs": [],
      "source": [
        "# dev_mse = evaluation.EmbeddingSimilarityEvaluator(new['tags'].values, new['reviews'].values,\\\n",
        "#                                                   scores=scores)\n",
        "dev_mse = evaluation.BinaryClassificationEvaluator(new['tags'].values, \\\n",
        "                          new['reviews'].values, \\\n",
        "                          new['sentiment_score'].values)"
      ]
    },
    {
      "cell_type": "code",
      "execution_count": null,
      "id": "b147a3dd",
      "metadata": {
        "id": "b147a3dd"
      },
      "outputs": [],
      "source": [
        "# dev_mse = evaluation.MSEEvaluator(new['tags'].values, new['reviews'].values,teacher_model=sent_model)"
      ]
    },
    {
      "cell_type": "code",
      "execution_count": null,
      "id": "804f0b56",
      "metadata": {
        "colab": {
          "base_uri": "https://localhost:8080/",
          "height": 81,
          "referenced_widgets": [
            "8b7b6a4975c747dca875e1bbe0ef1a84",
            "b0a79f75d8f6489eadc9015de6fe5277",
            "9f292f00b07941bf86b683364ea6f0d5",
            "f9b87273574540a3ad693c05dc4d3e84",
            "e05b382d852a4178bb70e2d2d9a7b3a2",
            "3dbeb4a917124b04bc572d93d4f7fbea",
            "359ab29d38874084868eb5f8d9183c8d",
            "17ffe1c0b9094240a9b92aae37a5afdc",
            "0299938b237e46109888b0d8504550ba",
            "c876462ec10b491384d9212e71bd6158",
            "fd8cc821d0074cde88af5c821b0dc5ee",
            "a637416cffe4432481cc876c33fa63d2",
            "739d888f4d1043fd9b6eee7ae9f2cb73",
            "9870c28a9f304ae2bdebeee43241c60f",
            "16bb25ddce9349d59c680e4b9cf84997",
            "0dc352824a2540d7825da5e7d04a32c5",
            "a6771401aad545429e6b1d82eeb2a250",
            "c5ab632521f047719e55099ddd3f131e",
            "3982370f5a7e4cf2a9414ff1dcc9c90c",
            "1387bbc3467946b5a4ace9a842ee0a19",
            "181701175ad74be39c0dc130646658e5",
            "deb27b09911a41e28227336bf9b4b960"
          ]
        },
        "id": "804f0b56",
        "outputId": "1ec0cc56-7bdc-434c-cdfd-5bea2361fdf9"
      },
      "outputs": [
        {
          "output_type": "display_data",
          "data": {
            "text/plain": [
              "Epoch:   0%|          | 0/1 [00:00<?, ?it/s]"
            ],
            "application/vnd.jupyter.widget-view+json": {
              "version_major": 2,
              "version_minor": 0,
              "model_id": "8b7b6a4975c747dca875e1bbe0ef1a84"
            }
          },
          "metadata": {}
        },
        {
          "output_type": "display_data",
          "data": {
            "text/plain": [
              "Iteration:   0%|          | 0/1363 [00:00<?, ?it/s]"
            ],
            "application/vnd.jupyter.widget-view+json": {
              "version_major": 2,
              "version_minor": 0,
              "model_id": "a637416cffe4432481cc876c33fa63d2"
            }
          },
          "metadata": {}
        }
      ],
      "source": [
        "sent_model.fit(train_objectives=[(train_dataloader, train_loss)], epochs=1, warmup_steps=100, output_path='result')"
      ]
    },
    {
      "cell_type": "code",
      "source": [
        "torch.save(sent_model.state_dict(), 'bruce_sent_model.pt')"
      ],
      "metadata": {
        "id": "PadveQJIvFFS"
      },
      "id": "PadveQJIvFFS",
      "execution_count": null,
      "outputs": []
    },
    {
      "cell_type": "code",
      "source": [
        "\n",
        "checkpoint = torch.load('bruce_sent_model.pt', device)\n",
        "sent_model.load_state_dict(checkpoint)\n",
        "sent_model.to(device)"
      ],
      "metadata": {
        "colab": {
          "base_uri": "https://localhost:8080/"
        },
        "id": "S4fQ6mRdunLP",
        "outputId": "23f4f98e-937f-4dea-ff77-fefb3928aa95"
      },
      "id": "S4fQ6mRdunLP",
      "execution_count": 70,
      "outputs": [
        {
          "output_type": "execute_result",
          "data": {
            "text/plain": [
              "SentenceTransformer(\n",
              "  (0): Transformer({'max_seq_length': 512, 'do_lower_case': False}) with Transformer model: MPNetModel \n",
              "  (1): Pooling({'word_embedding_dimension': 768, 'pooling_mode_cls_token': False, 'pooling_mode_mean_tokens': True, 'pooling_mode_max_tokens': False, 'pooling_mode_mean_sqrt_len_tokens': False})\n",
              ")"
            ]
          },
          "metadata": {},
          "execution_count": 70
        }
      ]
    },
    {
      "cell_type": "code",
      "execution_count": 71,
      "id": "544591e6",
      "metadata": {
        "id": "544591e6"
      },
      "outputs": [],
      "source": [
        "descriptions = new['tags'].unique().tolist()\n",
        "des_embeddings = []\n",
        "for i,des in enumerate(descriptions):\n",
        "    des_embeddings.append(sent_model.encode(des))"
      ]
    },
    {
      "cell_type": "code",
      "execution_count": 72,
      "id": "9f0d160f",
      "metadata": {
        "id": "9f0d160f"
      },
      "outputs": [],
      "source": [
        "def recommend(query, model):\n",
        "    #Compute cosine-similarities with all embeddings \n",
        "    model.eval()\n",
        "    query_embedd = model.encode(query)\n",
        "    cosine_scores = util.pytorch_cos_sim(query_embedd, des_embeddings)\n",
        "    top5_matches = torch.argsort(cosine_scores, dim=-1, descending=True).tolist()[0][0:10]\n",
        "    return top5_matches"
      ]
    },
    {
      "cell_type": "code",
      "execution_count": 73,
      "id": "407e04df",
      "metadata": {
        "id": "407e04df",
        "colab": {
          "base_uri": "https://localhost:8080/"
        },
        "outputId": "0a59230f-f709-48f5-d088-12fe967329c3"
      },
      "outputs": [
        {
          "output_type": "stream",
          "name": "stdout",
          "text": [
            "movie_id                                                        44826\n",
            "title                                                            Hugo\n",
            "reviews             Hugo is the masters new sublime work especiall...\n",
            "tags                Hugo is an orphan boy living in the walls of a...\n",
            "review_sentiment                                             positive\n",
            "sentiment_score                                                     1\n",
            "Name: 400, dtype: object\n",
            "movie_id                                                        13053\n",
            "title                                                            Bolt\n",
            "reviews             John Travolta is a vibrant, energetic and high...\n",
            "tags                Bolt is the star of the biggest show in Hollyw...\n",
            "review_sentiment                                             positive\n",
            "sentiment_score                                                     1\n",
            "Name: 746, dtype: object\n",
            "movie_id                                                         2310\n",
            "title                                                         Beowulf\n",
            "reviews             The Old English poem ponderously, gracelessly ...\n",
            "tags                6th-century Scandinavian warrior, Beowulf emba...\n",
            "review_sentiment                                             negative\n",
            "sentiment_score                                                     0\n",
            "Name: 844, dtype: object\n",
            "movie_id                                                        81188\n",
            "title                                           Rise of the Guardians\n",
            "reviews             DreamWorks newest picture is definitely one fo...\n",
            "tags                When an evil spirit known as Pitch lays down t...\n",
            "review_sentiment                                             positive\n",
            "sentiment_score                                                     1\n",
            "Name: 872, dtype: object\n",
            "movie_id                                                        65759\n",
            "title                                                  Happy Feet Two\n",
            "reviews             Happy Feet Two is the kind of movie that wont ...\n",
            "tags                Mumble the penguin has a problem: his son Erik...\n",
            "review_sentiment                                             negative\n",
            "sentiment_score                                                     0\n",
            "Name: 922, dtype: object\n",
            "movie_id                                                       102382\n",
            "title                                        The Amazing Spider-Man 2\n",
            "reviews             Hampers its blend of spectacular action and te...\n",
            "tags                For Peter Parker, life is busy. Between taking...\n",
            "review_sentiment                                             positive\n",
            "sentiment_score                                                     1\n",
            "Name: 175, dtype: object\n",
            "movie_id                                                         1726\n",
            "title                                                        Iron Man\n",
            "reviews             Injecting the brilliantly bright, quick, and c...\n",
            "tags                After being held captive in an Afghan cave, bi...\n",
            "review_sentiment                                             positive\n",
            "sentiment_score                                                     1\n",
            "Name: 394, dtype: object\n",
            "movie_id                                                          767\n",
            "title                          Harry Potter and the Half-Blood Prince\n",
            "reviews             While the sixth chapter in the popular series ...\n",
            "tags                As Harry begins his sixth year at Hogwarts, he...\n",
            "review_sentiment                                             positive\n",
            "sentiment_score                                                     1\n",
            "Name: 59, dtype: object\n",
            "movie_id                                                          597\n",
            "title                                                         Titanic\n",
            "reviews             Titanic is, in the end, and despite being proh...\n",
            "tags                84 years later, a 101-year-old woman named Ros...\n",
            "review_sentiment                                             positive\n",
            "sentiment_score                                                     1\n",
            "Name: 120, dtype: object\n",
            "movie_id                                                        65759\n",
            "title                                                  Happy Feet Two\n",
            "reviews             More feet, more songs, more music, more charac...\n",
            "tags                Mumble the penguin has a problem: his son Erik...\n",
            "review_sentiment                                             negative\n",
            "sentiment_score                                                     0\n",
            "Name: 934, dtype: object\n"
          ]
        }
      ],
      "source": [
        "query_show_des = 'New York'\n",
        "recommendded_results = recommend(query_show_des, sent_model)\n",
        "\n",
        "for index in recommendded_results:\n",
        "    print(new.iloc[index,:])"
      ]
    },
    {
      "cell_type": "code",
      "execution_count": 74,
      "id": "e8710529",
      "metadata": {
        "id": "e8710529",
        "outputId": "9025268d-6425-4c10-92db-5de4916c9c50",
        "colab": {
          "base_uri": "https://localhost:8080/"
        }
      },
      "outputs": [
        {
          "output_type": "stream",
          "name": "stdout",
          "text": [
            "movie_id                                                          810\n",
            "title                                                 Shrek the Third\n",
            "reviews             Though the devious wit of the original remains...\n",
            "tags                The King of Far Far Away has died and Shrek an...\n",
            "review_sentiment                                             negative\n",
            "sentiment_score                                                     0\n",
            "Name: 609, dtype: object\n",
            "movie_id                                                        11619\n",
            "title                                                    Flushed Away\n",
            "reviews             Flushed Away, directed by David Bowers and Sam...\n",
            "tags                London high-society mouse, Roddy is flushed do...\n",
            "review_sentiment                                             positive\n",
            "sentiment_score                                                     1\n",
            "Name: 793, dtype: object\n",
            "movie_id                                                        82690\n",
            "title                                                  Wreck-It Ralph\n",
            "reviews                               Wreck It Ralph is a ton of fun.\n",
            "tags                Wreck-It Ralph is the 9-foot-tall, 643-pound v...\n",
            "review_sentiment                                             positive\n",
            "sentiment_score                                                     1\n",
            "Name: 526, dtype: object\n",
            "movie_id                                                          767\n",
            "title                          Harry Potter and the Half-Blood Prince\n",
            "reviews             While the sixth chapter in the popular series ...\n",
            "tags                As Harry begins his sixth year at Hogwarts, he...\n",
            "review_sentiment                                             positive\n",
            "sentiment_score                                                     1\n",
            "Name: 59, dtype: object\n",
            "movie_id                                                        14161\n",
            "title                                                            2012\n",
            "reviews             You cannot say, in the terms of the life and c...\n",
            "tags                Dr. Adrian Helmsley, part of a worldwide geoph...\n",
            "review_sentiment                                             positive\n",
            "sentiment_score                                                     1\n",
            "Name: 320, dtype: object\n",
            "movie_id                                                        27205\n",
            "title                                                       Inception\n",
            "reviews             Mind blowing doesnt even begin to describe dir...\n",
            "tags                Cobb, a skilled thief who commits corporate es...\n",
            "review_sentiment                                             positive\n",
            "sentiment_score                                                     1\n",
            "Name: 583, dtype: object\n",
            "movie_id                                                        37724\n",
            "title                                                         Skyfall\n",
            "reviews             Thematically, it reminds audiences that, despi...\n",
            "tags                When Bond's latest assignment goes gravely wro...\n",
            "review_sentiment                                             positive\n",
            "sentiment_score                                                     1\n",
            "Name: 144, dtype: object\n",
            "movie_id                                                       102651\n",
            "title                                                      Maleficent\n",
            "reviews             Even as all sharp angles and dark clothing, An...\n",
            "tags                The untold story of Disney's most iconic villa...\n",
            "review_sentiment                                             positive\n",
            "sentiment_score                                                     1\n",
            "Name: 474, dtype: object\n",
            "movie_id                                                       150540\n",
            "title                                                      Inside Out\n",
            "reviews             The sort of lurid and preposterous suburban th...\n",
            "tags                Growing up can be a bumpy road, and it's no ex...\n",
            "review_sentiment                                             negative\n",
            "sentiment_score                                                     0\n",
            "Name: 439, dtype: object\n",
            "movie_id                                                        58595\n",
            "title                                     Snow White and the Huntsman\n",
            "reviews             Snow White and the Huntsman takes the ageless ...\n",
            "tags                After the Evil Queen marries the King, she per...\n",
            "review_sentiment                                             positive\n",
            "sentiment_score                                                     1\n",
            "Name: 466, dtype: object\n"
          ]
        }
      ],
      "source": [
        "query_show_des = 'happy and exciting'\n",
        "recommendded_results = recommend(query_show_des, sent_model)\n",
        "\n",
        "for index in recommendded_results:\n",
        "    print(new.iloc[index,:])"
      ]
    },
    {
      "cell_type": "code",
      "execution_count": 75,
      "id": "0e09cb9d",
      "metadata": {
        "id": "0e09cb9d",
        "colab": {
          "base_uri": "https://localhost:8080/"
        },
        "outputId": "05e393ec-9ca2-4dc7-841b-68980fba19c1"
      },
      "outputs": [
        {
          "output_type": "execute_result",
          "data": {
            "text/plain": [
              "0"
            ]
          },
          "metadata": {},
          "execution_count": 75
        }
      ],
      "source": [
        "import gc\n",
        "gc.collect()\n",
        "#torch.cuda.empty_cache()"
      ]
    },
    {
      "cell_type": "code",
      "execution_count": 76,
      "id": "5fa680df",
      "metadata": {
        "id": "5fa680df"
      },
      "outputs": [],
      "source": [
        "import torch\n",
        "from GPUtil import showUtilization as gpu_usage\n",
        "from numba import cuda\n",
        "\n",
        "def free_gpu_cache():\n",
        "    print(\"Initial GPU Usage\")\n",
        "    gpu_usage()                             \n",
        "\n",
        "    torch.cuda.empty_cache()\n",
        "\n",
        "    cuda.select_device(0)\n",
        "    cuda.close()\n",
        "    cuda.select_device(0)\n",
        "\n",
        "    print(\"GPU Usage after emptying the cache\")\n",
        "    gpu_usage()\n",
        "\n",
        "#free_gpu_cache()   "
      ]
    },
    {
      "cell_type": "code",
      "execution_count": 77,
      "id": "7eeb4e38",
      "metadata": {
        "id": "7eeb4e38",
        "outputId": "849b1271-35fb-4858-907d-6021ea240281",
        "colab": {
          "base_uri": "https://localhost:8080/"
        }
      },
      "outputs": [
        {
          "output_type": "execute_result",
          "data": {
            "text/plain": [
              "device(type='cuda')"
            ]
          },
          "metadata": {},
          "execution_count": 77
        }
      ],
      "source": [
        "device"
      ]
    },
    {
      "cell_type": "code",
      "execution_count": 77,
      "id": "d282d907",
      "metadata": {
        "id": "d282d907"
      },
      "outputs": [],
      "source": []
    }
  ],
  "metadata": {
    "colab": {
      "provenance": []
    },
    "kernelspec": {
      "display_name": "Python 3 (ipykernel)",
      "language": "python",
      "name": "python3"
    },
    "language_info": {
      "codemirror_mode": {
        "name": "ipython",
        "version": 3
      },
      "file_extension": ".py",
      "mimetype": "text/x-python",
      "name": "python",
      "nbconvert_exporter": "python",
      "pygments_lexer": "ipython3",
      "version": "3.9.12"
    },
    "widgets": {
      "application/vnd.jupyter.widget-state+json": {
        "8b7b6a4975c747dca875e1bbe0ef1a84": {
          "model_module": "@jupyter-widgets/controls",
          "model_name": "HBoxModel",
          "model_module_version": "1.5.0",
          "state": {
            "_dom_classes": [],
            "_model_module": "@jupyter-widgets/controls",
            "_model_module_version": "1.5.0",
            "_model_name": "HBoxModel",
            "_view_count": null,
            "_view_module": "@jupyter-widgets/controls",
            "_view_module_version": "1.5.0",
            "_view_name": "HBoxView",
            "box_style": "",
            "children": [
              "IPY_MODEL_b0a79f75d8f6489eadc9015de6fe5277",
              "IPY_MODEL_9f292f00b07941bf86b683364ea6f0d5",
              "IPY_MODEL_f9b87273574540a3ad693c05dc4d3e84"
            ],
            "layout": "IPY_MODEL_e05b382d852a4178bb70e2d2d9a7b3a2"
          }
        },
        "b0a79f75d8f6489eadc9015de6fe5277": {
          "model_module": "@jupyter-widgets/controls",
          "model_name": "HTMLModel",
          "model_module_version": "1.5.0",
          "state": {
            "_dom_classes": [],
            "_model_module": "@jupyter-widgets/controls",
            "_model_module_version": "1.5.0",
            "_model_name": "HTMLModel",
            "_view_count": null,
            "_view_module": "@jupyter-widgets/controls",
            "_view_module_version": "1.5.0",
            "_view_name": "HTMLView",
            "description": "",
            "description_tooltip": null,
            "layout": "IPY_MODEL_3dbeb4a917124b04bc572d93d4f7fbea",
            "placeholder": "​",
            "style": "IPY_MODEL_359ab29d38874084868eb5f8d9183c8d",
            "value": "Epoch: 100%"
          }
        },
        "9f292f00b07941bf86b683364ea6f0d5": {
          "model_module": "@jupyter-widgets/controls",
          "model_name": "FloatProgressModel",
          "model_module_version": "1.5.0",
          "state": {
            "_dom_classes": [],
            "_model_module": "@jupyter-widgets/controls",
            "_model_module_version": "1.5.0",
            "_model_name": "FloatProgressModel",
            "_view_count": null,
            "_view_module": "@jupyter-widgets/controls",
            "_view_module_version": "1.5.0",
            "_view_name": "ProgressView",
            "bar_style": "success",
            "description": "",
            "description_tooltip": null,
            "layout": "IPY_MODEL_17ffe1c0b9094240a9b92aae37a5afdc",
            "max": 1,
            "min": 0,
            "orientation": "horizontal",
            "style": "IPY_MODEL_0299938b237e46109888b0d8504550ba",
            "value": 1
          }
        },
        "f9b87273574540a3ad693c05dc4d3e84": {
          "model_module": "@jupyter-widgets/controls",
          "model_name": "HTMLModel",
          "model_module_version": "1.5.0",
          "state": {
            "_dom_classes": [],
            "_model_module": "@jupyter-widgets/controls",
            "_model_module_version": "1.5.0",
            "_model_name": "HTMLModel",
            "_view_count": null,
            "_view_module": "@jupyter-widgets/controls",
            "_view_module_version": "1.5.0",
            "_view_name": "HTMLView",
            "description": "",
            "description_tooltip": null,
            "layout": "IPY_MODEL_c876462ec10b491384d9212e71bd6158",
            "placeholder": "​",
            "style": "IPY_MODEL_fd8cc821d0074cde88af5c821b0dc5ee",
            "value": " 1/1 [10:33&lt;00:00, 633.35s/it]"
          }
        },
        "e05b382d852a4178bb70e2d2d9a7b3a2": {
          "model_module": "@jupyter-widgets/base",
          "model_name": "LayoutModel",
          "model_module_version": "1.2.0",
          "state": {
            "_model_module": "@jupyter-widgets/base",
            "_model_module_version": "1.2.0",
            "_model_name": "LayoutModel",
            "_view_count": null,
            "_view_module": "@jupyter-widgets/base",
            "_view_module_version": "1.2.0",
            "_view_name": "LayoutView",
            "align_content": null,
            "align_items": null,
            "align_self": null,
            "border": null,
            "bottom": null,
            "display": null,
            "flex": null,
            "flex_flow": null,
            "grid_area": null,
            "grid_auto_columns": null,
            "grid_auto_flow": null,
            "grid_auto_rows": null,
            "grid_column": null,
            "grid_gap": null,
            "grid_row": null,
            "grid_template_areas": null,
            "grid_template_columns": null,
            "grid_template_rows": null,
            "height": null,
            "justify_content": null,
            "justify_items": null,
            "left": null,
            "margin": null,
            "max_height": null,
            "max_width": null,
            "min_height": null,
            "min_width": null,
            "object_fit": null,
            "object_position": null,
            "order": null,
            "overflow": null,
            "overflow_x": null,
            "overflow_y": null,
            "padding": null,
            "right": null,
            "top": null,
            "visibility": null,
            "width": null
          }
        },
        "3dbeb4a917124b04bc572d93d4f7fbea": {
          "model_module": "@jupyter-widgets/base",
          "model_name": "LayoutModel",
          "model_module_version": "1.2.0",
          "state": {
            "_model_module": "@jupyter-widgets/base",
            "_model_module_version": "1.2.0",
            "_model_name": "LayoutModel",
            "_view_count": null,
            "_view_module": "@jupyter-widgets/base",
            "_view_module_version": "1.2.0",
            "_view_name": "LayoutView",
            "align_content": null,
            "align_items": null,
            "align_self": null,
            "border": null,
            "bottom": null,
            "display": null,
            "flex": null,
            "flex_flow": null,
            "grid_area": null,
            "grid_auto_columns": null,
            "grid_auto_flow": null,
            "grid_auto_rows": null,
            "grid_column": null,
            "grid_gap": null,
            "grid_row": null,
            "grid_template_areas": null,
            "grid_template_columns": null,
            "grid_template_rows": null,
            "height": null,
            "justify_content": null,
            "justify_items": null,
            "left": null,
            "margin": null,
            "max_height": null,
            "max_width": null,
            "min_height": null,
            "min_width": null,
            "object_fit": null,
            "object_position": null,
            "order": null,
            "overflow": null,
            "overflow_x": null,
            "overflow_y": null,
            "padding": null,
            "right": null,
            "top": null,
            "visibility": null,
            "width": null
          }
        },
        "359ab29d38874084868eb5f8d9183c8d": {
          "model_module": "@jupyter-widgets/controls",
          "model_name": "DescriptionStyleModel",
          "model_module_version": "1.5.0",
          "state": {
            "_model_module": "@jupyter-widgets/controls",
            "_model_module_version": "1.5.0",
            "_model_name": "DescriptionStyleModel",
            "_view_count": null,
            "_view_module": "@jupyter-widgets/base",
            "_view_module_version": "1.2.0",
            "_view_name": "StyleView",
            "description_width": ""
          }
        },
        "17ffe1c0b9094240a9b92aae37a5afdc": {
          "model_module": "@jupyter-widgets/base",
          "model_name": "LayoutModel",
          "model_module_version": "1.2.0",
          "state": {
            "_model_module": "@jupyter-widgets/base",
            "_model_module_version": "1.2.0",
            "_model_name": "LayoutModel",
            "_view_count": null,
            "_view_module": "@jupyter-widgets/base",
            "_view_module_version": "1.2.0",
            "_view_name": "LayoutView",
            "align_content": null,
            "align_items": null,
            "align_self": null,
            "border": null,
            "bottom": null,
            "display": null,
            "flex": null,
            "flex_flow": null,
            "grid_area": null,
            "grid_auto_columns": null,
            "grid_auto_flow": null,
            "grid_auto_rows": null,
            "grid_column": null,
            "grid_gap": null,
            "grid_row": null,
            "grid_template_areas": null,
            "grid_template_columns": null,
            "grid_template_rows": null,
            "height": null,
            "justify_content": null,
            "justify_items": null,
            "left": null,
            "margin": null,
            "max_height": null,
            "max_width": null,
            "min_height": null,
            "min_width": null,
            "object_fit": null,
            "object_position": null,
            "order": null,
            "overflow": null,
            "overflow_x": null,
            "overflow_y": null,
            "padding": null,
            "right": null,
            "top": null,
            "visibility": null,
            "width": null
          }
        },
        "0299938b237e46109888b0d8504550ba": {
          "model_module": "@jupyter-widgets/controls",
          "model_name": "ProgressStyleModel",
          "model_module_version": "1.5.0",
          "state": {
            "_model_module": "@jupyter-widgets/controls",
            "_model_module_version": "1.5.0",
            "_model_name": "ProgressStyleModel",
            "_view_count": null,
            "_view_module": "@jupyter-widgets/base",
            "_view_module_version": "1.2.0",
            "_view_name": "StyleView",
            "bar_color": null,
            "description_width": ""
          }
        },
        "c876462ec10b491384d9212e71bd6158": {
          "model_module": "@jupyter-widgets/base",
          "model_name": "LayoutModel",
          "model_module_version": "1.2.0",
          "state": {
            "_model_module": "@jupyter-widgets/base",
            "_model_module_version": "1.2.0",
            "_model_name": "LayoutModel",
            "_view_count": null,
            "_view_module": "@jupyter-widgets/base",
            "_view_module_version": "1.2.0",
            "_view_name": "LayoutView",
            "align_content": null,
            "align_items": null,
            "align_self": null,
            "border": null,
            "bottom": null,
            "display": null,
            "flex": null,
            "flex_flow": null,
            "grid_area": null,
            "grid_auto_columns": null,
            "grid_auto_flow": null,
            "grid_auto_rows": null,
            "grid_column": null,
            "grid_gap": null,
            "grid_row": null,
            "grid_template_areas": null,
            "grid_template_columns": null,
            "grid_template_rows": null,
            "height": null,
            "justify_content": null,
            "justify_items": null,
            "left": null,
            "margin": null,
            "max_height": null,
            "max_width": null,
            "min_height": null,
            "min_width": null,
            "object_fit": null,
            "object_position": null,
            "order": null,
            "overflow": null,
            "overflow_x": null,
            "overflow_y": null,
            "padding": null,
            "right": null,
            "top": null,
            "visibility": null,
            "width": null
          }
        },
        "fd8cc821d0074cde88af5c821b0dc5ee": {
          "model_module": "@jupyter-widgets/controls",
          "model_name": "DescriptionStyleModel",
          "model_module_version": "1.5.0",
          "state": {
            "_model_module": "@jupyter-widgets/controls",
            "_model_module_version": "1.5.0",
            "_model_name": "DescriptionStyleModel",
            "_view_count": null,
            "_view_module": "@jupyter-widgets/base",
            "_view_module_version": "1.2.0",
            "_view_name": "StyleView",
            "description_width": ""
          }
        },
        "a637416cffe4432481cc876c33fa63d2": {
          "model_module": "@jupyter-widgets/controls",
          "model_name": "HBoxModel",
          "model_module_version": "1.5.0",
          "state": {
            "_dom_classes": [],
            "_model_module": "@jupyter-widgets/controls",
            "_model_module_version": "1.5.0",
            "_model_name": "HBoxModel",
            "_view_count": null,
            "_view_module": "@jupyter-widgets/controls",
            "_view_module_version": "1.5.0",
            "_view_name": "HBoxView",
            "box_style": "",
            "children": [
              "IPY_MODEL_739d888f4d1043fd9b6eee7ae9f2cb73",
              "IPY_MODEL_9870c28a9f304ae2bdebeee43241c60f",
              "IPY_MODEL_16bb25ddce9349d59c680e4b9cf84997"
            ],
            "layout": "IPY_MODEL_0dc352824a2540d7825da5e7d04a32c5"
          }
        },
        "739d888f4d1043fd9b6eee7ae9f2cb73": {
          "model_module": "@jupyter-widgets/controls",
          "model_name": "HTMLModel",
          "model_module_version": "1.5.0",
          "state": {
            "_dom_classes": [],
            "_model_module": "@jupyter-widgets/controls",
            "_model_module_version": "1.5.0",
            "_model_name": "HTMLModel",
            "_view_count": null,
            "_view_module": "@jupyter-widgets/controls",
            "_view_module_version": "1.5.0",
            "_view_name": "HTMLView",
            "description": "",
            "description_tooltip": null,
            "layout": "IPY_MODEL_a6771401aad545429e6b1d82eeb2a250",
            "placeholder": "​",
            "style": "IPY_MODEL_c5ab632521f047719e55099ddd3f131e",
            "value": "Iteration: 100%"
          }
        },
        "9870c28a9f304ae2bdebeee43241c60f": {
          "model_module": "@jupyter-widgets/controls",
          "model_name": "FloatProgressModel",
          "model_module_version": "1.5.0",
          "state": {
            "_dom_classes": [],
            "_model_module": "@jupyter-widgets/controls",
            "_model_module_version": "1.5.0",
            "_model_name": "FloatProgressModel",
            "_view_count": null,
            "_view_module": "@jupyter-widgets/controls",
            "_view_module_version": "1.5.0",
            "_view_name": "ProgressView",
            "bar_style": "success",
            "description": "",
            "description_tooltip": null,
            "layout": "IPY_MODEL_3982370f5a7e4cf2a9414ff1dcc9c90c",
            "max": 1363,
            "min": 0,
            "orientation": "horizontal",
            "style": "IPY_MODEL_1387bbc3467946b5a4ace9a842ee0a19",
            "value": 1363
          }
        },
        "16bb25ddce9349d59c680e4b9cf84997": {
          "model_module": "@jupyter-widgets/controls",
          "model_name": "HTMLModel",
          "model_module_version": "1.5.0",
          "state": {
            "_dom_classes": [],
            "_model_module": "@jupyter-widgets/controls",
            "_model_module_version": "1.5.0",
            "_model_name": "HTMLModel",
            "_view_count": null,
            "_view_module": "@jupyter-widgets/controls",
            "_view_module_version": "1.5.0",
            "_view_name": "HTMLView",
            "description": "",
            "description_tooltip": null,
            "layout": "IPY_MODEL_181701175ad74be39c0dc130646658e5",
            "placeholder": "​",
            "style": "IPY_MODEL_deb27b09911a41e28227336bf9b4b960",
            "value": " 1363/1363 [10:33&lt;00:00,  2.22it/s]"
          }
        },
        "0dc352824a2540d7825da5e7d04a32c5": {
          "model_module": "@jupyter-widgets/base",
          "model_name": "LayoutModel",
          "model_module_version": "1.2.0",
          "state": {
            "_model_module": "@jupyter-widgets/base",
            "_model_module_version": "1.2.0",
            "_model_name": "LayoutModel",
            "_view_count": null,
            "_view_module": "@jupyter-widgets/base",
            "_view_module_version": "1.2.0",
            "_view_name": "LayoutView",
            "align_content": null,
            "align_items": null,
            "align_self": null,
            "border": null,
            "bottom": null,
            "display": null,
            "flex": null,
            "flex_flow": null,
            "grid_area": null,
            "grid_auto_columns": null,
            "grid_auto_flow": null,
            "grid_auto_rows": null,
            "grid_column": null,
            "grid_gap": null,
            "grid_row": null,
            "grid_template_areas": null,
            "grid_template_columns": null,
            "grid_template_rows": null,
            "height": null,
            "justify_content": null,
            "justify_items": null,
            "left": null,
            "margin": null,
            "max_height": null,
            "max_width": null,
            "min_height": null,
            "min_width": null,
            "object_fit": null,
            "object_position": null,
            "order": null,
            "overflow": null,
            "overflow_x": null,
            "overflow_y": null,
            "padding": null,
            "right": null,
            "top": null,
            "visibility": null,
            "width": null
          }
        },
        "a6771401aad545429e6b1d82eeb2a250": {
          "model_module": "@jupyter-widgets/base",
          "model_name": "LayoutModel",
          "model_module_version": "1.2.0",
          "state": {
            "_model_module": "@jupyter-widgets/base",
            "_model_module_version": "1.2.0",
            "_model_name": "LayoutModel",
            "_view_count": null,
            "_view_module": "@jupyter-widgets/base",
            "_view_module_version": "1.2.0",
            "_view_name": "LayoutView",
            "align_content": null,
            "align_items": null,
            "align_self": null,
            "border": null,
            "bottom": null,
            "display": null,
            "flex": null,
            "flex_flow": null,
            "grid_area": null,
            "grid_auto_columns": null,
            "grid_auto_flow": null,
            "grid_auto_rows": null,
            "grid_column": null,
            "grid_gap": null,
            "grid_row": null,
            "grid_template_areas": null,
            "grid_template_columns": null,
            "grid_template_rows": null,
            "height": null,
            "justify_content": null,
            "justify_items": null,
            "left": null,
            "margin": null,
            "max_height": null,
            "max_width": null,
            "min_height": null,
            "min_width": null,
            "object_fit": null,
            "object_position": null,
            "order": null,
            "overflow": null,
            "overflow_x": null,
            "overflow_y": null,
            "padding": null,
            "right": null,
            "top": null,
            "visibility": null,
            "width": null
          }
        },
        "c5ab632521f047719e55099ddd3f131e": {
          "model_module": "@jupyter-widgets/controls",
          "model_name": "DescriptionStyleModel",
          "model_module_version": "1.5.0",
          "state": {
            "_model_module": "@jupyter-widgets/controls",
            "_model_module_version": "1.5.0",
            "_model_name": "DescriptionStyleModel",
            "_view_count": null,
            "_view_module": "@jupyter-widgets/base",
            "_view_module_version": "1.2.0",
            "_view_name": "StyleView",
            "description_width": ""
          }
        },
        "3982370f5a7e4cf2a9414ff1dcc9c90c": {
          "model_module": "@jupyter-widgets/base",
          "model_name": "LayoutModel",
          "model_module_version": "1.2.0",
          "state": {
            "_model_module": "@jupyter-widgets/base",
            "_model_module_version": "1.2.0",
            "_model_name": "LayoutModel",
            "_view_count": null,
            "_view_module": "@jupyter-widgets/base",
            "_view_module_version": "1.2.0",
            "_view_name": "LayoutView",
            "align_content": null,
            "align_items": null,
            "align_self": null,
            "border": null,
            "bottom": null,
            "display": null,
            "flex": null,
            "flex_flow": null,
            "grid_area": null,
            "grid_auto_columns": null,
            "grid_auto_flow": null,
            "grid_auto_rows": null,
            "grid_column": null,
            "grid_gap": null,
            "grid_row": null,
            "grid_template_areas": null,
            "grid_template_columns": null,
            "grid_template_rows": null,
            "height": null,
            "justify_content": null,
            "justify_items": null,
            "left": null,
            "margin": null,
            "max_height": null,
            "max_width": null,
            "min_height": null,
            "min_width": null,
            "object_fit": null,
            "object_position": null,
            "order": null,
            "overflow": null,
            "overflow_x": null,
            "overflow_y": null,
            "padding": null,
            "right": null,
            "top": null,
            "visibility": null,
            "width": null
          }
        },
        "1387bbc3467946b5a4ace9a842ee0a19": {
          "model_module": "@jupyter-widgets/controls",
          "model_name": "ProgressStyleModel",
          "model_module_version": "1.5.0",
          "state": {
            "_model_module": "@jupyter-widgets/controls",
            "_model_module_version": "1.5.0",
            "_model_name": "ProgressStyleModel",
            "_view_count": null,
            "_view_module": "@jupyter-widgets/base",
            "_view_module_version": "1.2.0",
            "_view_name": "StyleView",
            "bar_color": null,
            "description_width": ""
          }
        },
        "181701175ad74be39c0dc130646658e5": {
          "model_module": "@jupyter-widgets/base",
          "model_name": "LayoutModel",
          "model_module_version": "1.2.0",
          "state": {
            "_model_module": "@jupyter-widgets/base",
            "_model_module_version": "1.2.0",
            "_model_name": "LayoutModel",
            "_view_count": null,
            "_view_module": "@jupyter-widgets/base",
            "_view_module_version": "1.2.0",
            "_view_name": "LayoutView",
            "align_content": null,
            "align_items": null,
            "align_self": null,
            "border": null,
            "bottom": null,
            "display": null,
            "flex": null,
            "flex_flow": null,
            "grid_area": null,
            "grid_auto_columns": null,
            "grid_auto_flow": null,
            "grid_auto_rows": null,
            "grid_column": null,
            "grid_gap": null,
            "grid_row": null,
            "grid_template_areas": null,
            "grid_template_columns": null,
            "grid_template_rows": null,
            "height": null,
            "justify_content": null,
            "justify_items": null,
            "left": null,
            "margin": null,
            "max_height": null,
            "max_width": null,
            "min_height": null,
            "min_width": null,
            "object_fit": null,
            "object_position": null,
            "order": null,
            "overflow": null,
            "overflow_x": null,
            "overflow_y": null,
            "padding": null,
            "right": null,
            "top": null,
            "visibility": null,
            "width": null
          }
        },
        "deb27b09911a41e28227336bf9b4b960": {
          "model_module": "@jupyter-widgets/controls",
          "model_name": "DescriptionStyleModel",
          "model_module_version": "1.5.0",
          "state": {
            "_model_module": "@jupyter-widgets/controls",
            "_model_module_version": "1.5.0",
            "_model_name": "DescriptionStyleModel",
            "_view_count": null,
            "_view_module": "@jupyter-widgets/base",
            "_view_module_version": "1.2.0",
            "_view_name": "StyleView",
            "description_width": ""
          }
        }
      }
    },
    "accelerator": "GPU",
    "gpuClass": "standard"
  },
  "nbformat": 4,
  "nbformat_minor": 5
}
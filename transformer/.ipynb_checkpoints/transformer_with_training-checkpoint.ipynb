{
 "cells": [
  {
   "cell_type": "code",
   "execution_count": 161,
   "id": "6e9c2e0c",
   "metadata": {},
   "outputs": [],
   "source": [
    "# !pip install -U sentence-transformers"
   ]
  },
  {
   "cell_type": "code",
   "execution_count": 1,
   "id": "0b2c1b9b",
   "metadata": {},
   "outputs": [
    {
     "name": "stderr",
     "output_type": "stream",
     "text": [
      "[nltk_data] Downloading package words to\n",
      "[nltk_data]     C:\\Users\\czhao\\AppData\\Roaming\\nltk_data...\n",
      "[nltk_data]   Package words is already up-to-date!\n"
     ]
    }
   ],
   "source": [
    "import numpy as np\n",
    "import pandas as pd\n",
    "from sentence_transformers import SentenceTransformer, util\n",
    "import ast\n",
    "from sklearn.feature_extraction.text import TfidfVectorizer\n",
    "from sklearn.metrics.pairwise import linear_kernel\n",
    "from nltk.tokenize import sent_tokenize, word_tokenize\n",
    "from nltk.stem import PorterStemmer\n",
    "import torch\n",
    "import torch.nn as nn\n",
    "import nltk\n",
    "import re\n",
    "nltk.download('words')\n",
    "words = set(nltk.corpus.words.words())\n",
    "\n",
    "def stemSentence_porter(sentence):\n",
    "    porter = PorterStemmer()\n",
    "    token_words=word_tokenize(sentence)\n",
    "    stem_sentence=[]\n",
    "    for word in token_words:\n",
    "        stem_sentence.append(porter.stem(word))\n",
    "        stem_sentence.append(\" \")\n",
    "    return \"\".join(stem_sentence)\n",
    "\n",
    "def convert(text):\n",
    "    L = []\n",
    "    for i in ast.literal_eval(text):\n",
    "        L.append(i['name']) \n",
    "    return L \n",
    "\n",
    "\n",
    "def fetch_director(text):\n",
    "    L = []\n",
    "    for i in ast.literal_eval(text):\n",
    "        if i['job'] == 'Director':\n",
    "            L.append(i['name'])\n",
    "    return L \n",
    "\n",
    "\n",
    "def collapse(L):\n",
    "    L1 = []\n",
    "    for i in L:\n",
    "        L1.append(i.replace(\" \",\"\"))\n",
    "    return L1\n",
    "\n",
    "def clean_text(text):\n",
    "    # remove backslash-apostrophe \n",
    "    text = re.sub(\"\\'\", \"\", text) \n",
    "    # remove everything except alphabets \n",
    "    text = re.sub(\"[^a-zA-Z0-9,.’]\",\" \",text) \n",
    "    # remove whitespaces \n",
    "    text = ' '.join(text.split()) \n",
    "    # convert text to lowercase \n",
    "    \n",
    "    return text\n",
    "\n",
    "device = torch.device(\"cuda\" if torch.cuda.is_available() else \"cpu\")"
   ]
  },
  {
   "cell_type": "code",
   "execution_count": 2,
   "id": "51f0e440",
   "metadata": {},
   "outputs": [],
   "source": [
    "movies = pd.read_csv('../tmdb_5000_data/tmdb_5000_movies.csv')\n",
    "credits = pd.read_csv('../tmdb_5000_data/tmdb_5000_credits.csv') \n",
    "movies = movies.merge(credits,on='title')\n",
    "\n",
    "reviews = pd.read_csv('crawled_data/2022-11-19_movie_info_with_reviews.csv')\n",
    "reviews = reviews[['id','reviews']]\n",
    "movies = movies.merge(reviews,on='id', how='left')\n",
    "\n",
    "movies = movies[['movie_id','title','overview','genres','keywords','cast','crew', 'reviews']]\n",
    "movies.dropna(inplace=True)\n",
    "movies['genres'] = movies['genres'].apply(convert)\n",
    "\n",
    "movies['keywords'] = movies['keywords'].apply(convert)\n",
    "\n",
    "movies['cast'] = movies['cast'].apply(convert)\n",
    "\n",
    "movies['cast'] = movies['cast'].apply(lambda x:x[0:3])\n",
    "\n",
    "movies['crew'] = movies['crew'].apply(fetch_director)\n",
    "\n",
    "\n",
    "movies['crew'] = movies['crew'].apply(lambda x: [\" \".join(\\\n",
    "        w for w in nltk.wordpunct_tokenize(i) \\\n",
    "         if w.lower() in words or not w.isalpha()) for i in x])\n",
    "\n",
    "# movies['cast'] = movies['cast'].apply(collapse)\n",
    "# movies['crew'] = movies['crew'].apply(collapse)\n",
    "# movies['genres'] = movies['genres'].apply(collapse)\n",
    "# movies['keywords'] = movies['keywords'].apply(collapse)\n",
    "\n",
    "\n",
    "# new['tags'] = new['tags'].apply(stemSentence_porter)"
   ]
  },
  {
   "cell_type": "code",
   "execution_count": 3,
   "id": "fde2e184",
   "metadata": {},
   "outputs": [],
   "source": [
    "movies['reviews'] = movies['reviews'].apply(lambda x: clean_text(\"\".join(x)))"
   ]
  },
  {
   "cell_type": "code",
   "execution_count": 4,
   "id": "5c9eadbf",
   "metadata": {},
   "outputs": [],
   "source": [
    "movies['overview'] = movies['overview'].apply(lambda x:x.split())\n",
    "movies['tags'] = movies['overview'] + movies['genres'] + movies['keywords'] + movies['cast'] + movies['crew']\n",
    "new = movies.drop(columns=['overview','genres','keywords','cast','crew'])\n",
    "new['tags'] = new['tags'].apply(lambda x: \" \".join(x))\n",
    "new = new[(new['tags'].notnull())].reset_index(drop=True)"
   ]
  },
  {
   "cell_type": "code",
   "execution_count": 5,
   "id": "0b4875f4",
   "metadata": {},
   "outputs": [
    {
     "data": {
      "text/html": [
       "<div>\n",
       "<style scoped>\n",
       "    .dataframe tbody tr th:only-of-type {\n",
       "        vertical-align: middle;\n",
       "    }\n",
       "\n",
       "    .dataframe tbody tr th {\n",
       "        vertical-align: top;\n",
       "    }\n",
       "\n",
       "    .dataframe thead th {\n",
       "        text-align: right;\n",
       "    }\n",
       "</style>\n",
       "<table border=\"1\" class=\"dataframe\">\n",
       "  <thead>\n",
       "    <tr style=\"text-align: right;\">\n",
       "      <th></th>\n",
       "      <th>movie_id</th>\n",
       "      <th>title</th>\n",
       "      <th>reviews</th>\n",
       "      <th>tags</th>\n",
       "    </tr>\n",
       "  </thead>\n",
       "  <tbody>\n",
       "    <tr>\n",
       "      <th>0</th>\n",
       "      <td>19995</td>\n",
       "      <td>Avatar</td>\n",
       "      <td>Cameron’s epic can still thrill the audience w...</td>\n",
       "      <td>In the 22nd century, a paraplegic Marine is di...</td>\n",
       "    </tr>\n",
       "    <tr>\n",
       "      <th>1</th>\n",
       "      <td>285</td>\n",
       "      <td>Pirates of the Caribbean: At World's End</td>\n",
       "      <td></td>\n",
       "      <td>Captain Barbossa, long believed to be dead, ha...</td>\n",
       "    </tr>\n",
       "    <tr>\n",
       "      <th>2</th>\n",
       "      <td>206647</td>\n",
       "      <td>Spectre</td>\n",
       "      <td></td>\n",
       "      <td>A cryptic message from Bond’s past sends him o...</td>\n",
       "    </tr>\n",
       "    <tr>\n",
       "      <th>3</th>\n",
       "      <td>49026</td>\n",
       "      <td>The Dark Knight Rises</td>\n",
       "      <td>It still might not be quite the conclusion we ...</td>\n",
       "      <td>Following the death of District Attorney Harve...</td>\n",
       "    </tr>\n",
       "    <tr>\n",
       "      <th>4</th>\n",
       "      <td>49529</td>\n",
       "      <td>John Carter</td>\n",
       "      <td>John Carter is a good summer movie in March bu...</td>\n",
       "      <td>John Carter is a war-weary, former military ca...</td>\n",
       "    </tr>\n",
       "    <tr>\n",
       "      <th>...</th>\n",
       "      <td>...</td>\n",
       "      <td>...</td>\n",
       "      <td>...</td>\n",
       "      <td>...</td>\n",
       "    </tr>\n",
       "    <tr>\n",
       "      <th>4813</th>\n",
       "      <td>9367</td>\n",
       "      <td>El Mariachi</td>\n",
       "      <td>Some of the film is monotonous, but it’s so co...</td>\n",
       "      <td>El Mariachi just wants to play his guitar and ...</td>\n",
       "    </tr>\n",
       "    <tr>\n",
       "      <th>4814</th>\n",
       "      <td>72766</td>\n",
       "      <td>Newlyweds</td>\n",
       "      <td>The best thing I can say about Newlyweds is th...</td>\n",
       "      <td>A newlywed couple's honeymoon is upended by th...</td>\n",
       "    </tr>\n",
       "    <tr>\n",
       "      <th>4815</th>\n",
       "      <td>231617</td>\n",
       "      <td>Signed, Sealed, Delivered</td>\n",
       "      <td></td>\n",
       "      <td>\"Signed, Sealed, Delivered\" introduces a dedic...</td>\n",
       "    </tr>\n",
       "    <tr>\n",
       "      <th>4816</th>\n",
       "      <td>126186</td>\n",
       "      <td>Shanghai Calling</td>\n",
       "      <td>A star is born in Daniel Henney in the predict...</td>\n",
       "      <td>When ambitious New York attorney Sam is sent t...</td>\n",
       "    </tr>\n",
       "    <tr>\n",
       "      <th>4817</th>\n",
       "      <td>25975</td>\n",
       "      <td>My Date with Drew</td>\n",
       "      <td>Brian wants to meet Drew. By the end of his mo...</td>\n",
       "      <td>Ever since the second grade when he first saw ...</td>\n",
       "    </tr>\n",
       "  </tbody>\n",
       "</table>\n",
       "<p>4818 rows × 4 columns</p>\n",
       "</div>"
      ],
      "text/plain": [
       "      movie_id                                     title  \\\n",
       "0        19995                                    Avatar   \n",
       "1          285  Pirates of the Caribbean: At World's End   \n",
       "2       206647                                   Spectre   \n",
       "3        49026                     The Dark Knight Rises   \n",
       "4        49529                               John Carter   \n",
       "...        ...                                       ...   \n",
       "4813      9367                               El Mariachi   \n",
       "4814     72766                                 Newlyweds   \n",
       "4815    231617                 Signed, Sealed, Delivered   \n",
       "4816    126186                          Shanghai Calling   \n",
       "4817     25975                         My Date with Drew   \n",
       "\n",
       "                                                reviews  \\\n",
       "0     Cameron’s epic can still thrill the audience w...   \n",
       "1                                                         \n",
       "2                                                         \n",
       "3     It still might not be quite the conclusion we ...   \n",
       "4     John Carter is a good summer movie in March bu...   \n",
       "...                                                 ...   \n",
       "4813  Some of the film is monotonous, but it’s so co...   \n",
       "4814  The best thing I can say about Newlyweds is th...   \n",
       "4815                                                      \n",
       "4816  A star is born in Daniel Henney in the predict...   \n",
       "4817  Brian wants to meet Drew. By the end of his mo...   \n",
       "\n",
       "                                                   tags  \n",
       "0     In the 22nd century, a paraplegic Marine is di...  \n",
       "1     Captain Barbossa, long believed to be dead, ha...  \n",
       "2     A cryptic message from Bond’s past sends him o...  \n",
       "3     Following the death of District Attorney Harve...  \n",
       "4     John Carter is a war-weary, former military ca...  \n",
       "...                                                 ...  \n",
       "4813  El Mariachi just wants to play his guitar and ...  \n",
       "4814  A newlywed couple's honeymoon is upended by th...  \n",
       "4815  \"Signed, Sealed, Delivered\" introduces a dedic...  \n",
       "4816  When ambitious New York attorney Sam is sent t...  \n",
       "4817  Ever since the second grade when he first saw ...  \n",
       "\n",
       "[4818 rows x 4 columns]"
      ]
     },
     "execution_count": 5,
     "metadata": {},
     "output_type": "execute_result"
    }
   ],
   "source": [
    "new"
   ]
  },
  {
   "cell_type": "code",
   "execution_count": 6,
   "id": "e1162e28",
   "metadata": {},
   "outputs": [],
   "source": [
    "new = new[new['reviews']!='']"
   ]
  },
  {
   "cell_type": "code",
   "execution_count": 7,
   "id": "b6f134dd",
   "metadata": {},
   "outputs": [],
   "source": [
    "# model = SentenceTransformer('paraphrase-distilroberta-base-v1')\n",
    "# model = SentenceTransformer('all-MiniLM-L6-v2')\n",
    "# model = SentenceTransformer('all-mpnet-base-v2')\n",
    "# model = SentenceTransformer('stsb-bert-large')"
   ]
  },
  {
   "cell_type": "code",
   "execution_count": 8,
   "id": "9c7e64bf",
   "metadata": {},
   "outputs": [],
   "source": [
    "# def train(model, df, batch_size=128, learning_rate=0.1, epochs=30):\n",
    "\n",
    "#     model.to(device)\n",
    "#     model.train()\n",
    "#     criterion = nn.MSELoss()\n",
    "#     optimizer = torch.optim.SGD(model.parameters(), lr=learning_rate)\n",
    "\n",
    "#     plots = df['tags'].values\n",
    "    \n",
    "#     reviews = df['reviews'].values\n",
    "\n",
    "#     for epoch in range(epochs):\n",
    "#         for i in range(0, len(plots), batch_size):\n",
    "\n",
    "#             batch_plots = plots[i:i+batch_size]\n",
    "#             batch_reviews = reviews[i:i+batch_size]\n",
    "            \n",
    "#             embedding_plots = torch.tensor(model.encode(batch_plots), requires_grad=True).unsqueeze(1).to(device)\n",
    "#             embedding_reviews = torch.tensor(model.encode(batch_reviews), requires_grad=True).unsqueeze(1).to(device)\n",
    "            \n",
    "#             loss = criterion(embedding_plots, embedding_reviews)\n",
    "#             print(loss)\n",
    "#             loss.backward()\n",
    "#             optimizer.step()\n",
    "#             optimizer.zero_grad()"
   ]
  },
  {
   "cell_type": "code",
   "execution_count": 9,
   "id": "bfb1f164",
   "metadata": {
    "scrolled": true
   },
   "outputs": [],
   "source": [
    "# train(model, new)"
   ]
  },
  {
   "cell_type": "code",
   "execution_count": 10,
   "id": "4c8710d0",
   "metadata": {},
   "outputs": [],
   "source": [
    "# descriptions = new['tags'].tolist()\n",
    "# des_embeddings = []\n",
    "# for i,des in enumerate(descriptions):\n",
    "#     des_embeddings.append(model.encode(des))"
   ]
  },
  {
   "cell_type": "code",
   "execution_count": 11,
   "id": "01479e55",
   "metadata": {},
   "outputs": [],
   "source": [
    "# def recommend(query, model):\n",
    "#     #Compute cosine-similarities with all embeddings \n",
    "#     model.eval()\n",
    "#     query_embedd = model.encode(query)\n",
    "#     cosine_scores = util.pytorch_cos_sim(query_embedd, des_embeddings)\n",
    "#     top5_matches = torch.argsort(cosine_scores, dim=-1, descending=True).tolist()[0][0:5]\n",
    "#     return top5_matches"
   ]
  },
  {
   "cell_type": "code",
   "execution_count": 85,
   "id": "cfdf0b53",
   "metadata": {},
   "outputs": [
    {
     "name": "stdout",
     "output_type": "stream",
     "text": [
      "movie_id                                                   62\n",
      "title                                   2001: A Space Odyssey\n",
      "reviews                                                      \n",
      "tags        Humanity finds a mysterious object buried bene...\n",
      "Name: 2978, dtype: object\n",
      "movie_id                                                19995\n",
      "title                                                  Avatar\n",
      "reviews     Cameron’s epic can still thrill the audience w...\n",
      "tags        In the 22nd century, a paraplegic Marine is di...\n",
      "Name: 0, dtype: object\n",
      "movie_id                                                10153\n",
      "title                                                  Sphere\n",
      "reviews     It pays to be incredibly suspicious of a movie...\n",
      "tags        The OSSA discovers a spacecraft thought to be ...\n",
      "Name: 549, dtype: object\n",
      "movie_id                                                17431\n",
      "title                                                    Moon\n",
      "reviews     Made with only a fraction of your average Star...\n",
      "tags        With only three weeks left in his three year c...\n",
      "Name: 3636, dtype: object\n",
      "movie_id                                                50357\n",
      "title                                               Apollo 18\n",
      "reviews     I found Apollo 18 to be a fun little movie tha...\n",
      "tags        Officially, Apollo 17 was the last manned miss...\n",
      "Name: 3616, dtype: object\n"
     ]
    }
   ],
   "source": [
    "query_show_des = 'moon Pandora space colony society Sam 3d'\n",
    "recommendded_results = recommend(query_show_des, model)\n",
    "\n",
    "for index in recommendded_results:\n",
    "    print(new.iloc[index,:])"
   ]
  },
  {
   "cell_type": "code",
   "execution_count": 8,
   "id": "cbf6702a",
   "metadata": {},
   "outputs": [],
   "source": [
    "from sentence_transformers import models, losses, InputExample\n",
    "from torch.utils.data import DataLoader\n",
    "from sentence_transformers import evaluation"
   ]
  },
  {
   "cell_type": "code",
   "execution_count": 9,
   "id": "8341a9ac",
   "metadata": {},
   "outputs": [
    {
     "name": "stderr",
     "output_type": "stream",
     "text": [
      "Some weights of the model checkpoint at microsoft/mpnet-base were not used when initializing MPNetModel: ['lm_head.dense.weight', 'lm_head.dense.bias', 'lm_head.bias', 'lm_head.decoder.weight', 'lm_head.decoder.bias', 'lm_head.layer_norm.bias', 'lm_head.layer_norm.weight']\n",
      "- This IS expected if you are initializing MPNetModel from the checkpoint of a model trained on another task or with another architecture (e.g. initializing a BertForSequenceClassification model from a BertForPreTraining model).\n",
      "- This IS NOT expected if you are initializing MPNetModel from the checkpoint of a model that you expect to be exactly identical (initializing a BertForSequenceClassification model from a BertForSequenceClassification model).\n",
      "Some weights of MPNetModel were not initialized from the model checkpoint at microsoft/mpnet-base and are newly initialized: ['mpnet.pooler.dense.weight', 'mpnet.pooler.dense.bias']\n",
      "You should probably TRAIN this model on a down-stream task to be able to use it for predictions and inference.\n"
     ]
    }
   ],
   "source": [
    "# microsoft/mpnet-base\n",
    "# sentence-transformers/stsb-bert-large\n",
    "word_embedding_model = models.Transformer('microsoft/mpnet-base').to(device)"
   ]
  },
  {
   "cell_type": "code",
   "execution_count": 37,
   "id": "9010a310",
   "metadata": {},
   "outputs": [
    {
     "data": {
      "text/html": [
       "<div>\n",
       "<style scoped>\n",
       "    .dataframe tbody tr th:only-of-type {\n",
       "        vertical-align: middle;\n",
       "    }\n",
       "\n",
       "    .dataframe tbody tr th {\n",
       "        vertical-align: top;\n",
       "    }\n",
       "\n",
       "    .dataframe thead th {\n",
       "        text-align: right;\n",
       "    }\n",
       "</style>\n",
       "<table border=\"1\" class=\"dataframe\">\n",
       "  <thead>\n",
       "    <tr style=\"text-align: right;\">\n",
       "      <th></th>\n",
       "      <th>movie_id</th>\n",
       "      <th>title</th>\n",
       "      <th>reviews</th>\n",
       "      <th>tags</th>\n",
       "    </tr>\n",
       "  </thead>\n",
       "  <tbody>\n",
       "    <tr>\n",
       "      <th>0</th>\n",
       "      <td>19995</td>\n",
       "      <td>Avatar</td>\n",
       "      <td>Cameron’s epic can still thrill the audience w...</td>\n",
       "      <td>In the 22nd century, a paraplegic Marine is di...</td>\n",
       "    </tr>\n",
       "    <tr>\n",
       "      <th>3</th>\n",
       "      <td>49026</td>\n",
       "      <td>The Dark Knight Rises</td>\n",
       "      <td>It still might not be quite the conclusion we ...</td>\n",
       "      <td>Following the death of District Attorney Harve...</td>\n",
       "    </tr>\n",
       "    <tr>\n",
       "      <th>4</th>\n",
       "      <td>49529</td>\n",
       "      <td>John Carter</td>\n",
       "      <td>John Carter is a good summer movie in March bu...</td>\n",
       "      <td>John Carter is a war-weary, former military ca...</td>\n",
       "    </tr>\n",
       "    <tr>\n",
       "      <th>6</th>\n",
       "      <td>38757</td>\n",
       "      <td>Tangled</td>\n",
       "      <td>At its finest moments, this production emanate...</td>\n",
       "      <td>When the kingdom's most wanted-and most charmi...</td>\n",
       "    </tr>\n",
       "    <tr>\n",
       "      <th>8</th>\n",
       "      <td>767</td>\n",
       "      <td>Harry Potter and the Half-Blood Prince</td>\n",
       "      <td>...a for fans only entry within an often distr...</td>\n",
       "      <td>As Harry begins his sixth year at Hogwarts, he...</td>\n",
       "    </tr>\n",
       "    <tr>\n",
       "      <th>...</th>\n",
       "      <td>...</td>\n",
       "      <td>...</td>\n",
       "      <td>...</td>\n",
       "      <td>...</td>\n",
       "    </tr>\n",
       "    <tr>\n",
       "      <th>4811</th>\n",
       "      <td>14337</td>\n",
       "      <td>Primer</td>\n",
       "      <td>Time travel may provide the paradoxical mechan...</td>\n",
       "      <td>Friends/fledgling entrepreneurs invent a devic...</td>\n",
       "    </tr>\n",
       "    <tr>\n",
       "      <th>4813</th>\n",
       "      <td>9367</td>\n",
       "      <td>El Mariachi</td>\n",
       "      <td>Some of the film is monotonous, but it’s so co...</td>\n",
       "      <td>El Mariachi just wants to play his guitar and ...</td>\n",
       "    </tr>\n",
       "    <tr>\n",
       "      <th>4814</th>\n",
       "      <td>72766</td>\n",
       "      <td>Newlyweds</td>\n",
       "      <td>The best thing I can say about Newlyweds is th...</td>\n",
       "      <td>A newlywed couple's honeymoon is upended by th...</td>\n",
       "    </tr>\n",
       "    <tr>\n",
       "      <th>4816</th>\n",
       "      <td>126186</td>\n",
       "      <td>Shanghai Calling</td>\n",
       "      <td>A star is born in Daniel Henney in the predict...</td>\n",
       "      <td>When ambitious New York attorney Sam is sent t...</td>\n",
       "    </tr>\n",
       "    <tr>\n",
       "      <th>4817</th>\n",
       "      <td>25975</td>\n",
       "      <td>My Date with Drew</td>\n",
       "      <td>Brian wants to meet Drew. By the end of his mo...</td>\n",
       "      <td>Ever since the second grade when he first saw ...</td>\n",
       "    </tr>\n",
       "  </tbody>\n",
       "</table>\n",
       "<p>2947 rows × 4 columns</p>\n",
       "</div>"
      ],
      "text/plain": [
       "      movie_id                                   title  \\\n",
       "0        19995                                  Avatar   \n",
       "3        49026                   The Dark Knight Rises   \n",
       "4        49529                             John Carter   \n",
       "6        38757                                 Tangled   \n",
       "8          767  Harry Potter and the Half-Blood Prince   \n",
       "...        ...                                     ...   \n",
       "4811     14337                                  Primer   \n",
       "4813      9367                             El Mariachi   \n",
       "4814     72766                               Newlyweds   \n",
       "4816    126186                        Shanghai Calling   \n",
       "4817     25975                       My Date with Drew   \n",
       "\n",
       "                                                reviews  \\\n",
       "0     Cameron’s epic can still thrill the audience w...   \n",
       "3     It still might not be quite the conclusion we ...   \n",
       "4     John Carter is a good summer movie in March bu...   \n",
       "6     At its finest moments, this production emanate...   \n",
       "8     ...a for fans only entry within an often distr...   \n",
       "...                                                 ...   \n",
       "4811  Time travel may provide the paradoxical mechan...   \n",
       "4813  Some of the film is monotonous, but it’s so co...   \n",
       "4814  The best thing I can say about Newlyweds is th...   \n",
       "4816  A star is born in Daniel Henney in the predict...   \n",
       "4817  Brian wants to meet Drew. By the end of his mo...   \n",
       "\n",
       "                                                   tags  \n",
       "0     In the 22nd century, a paraplegic Marine is di...  \n",
       "3     Following the death of District Attorney Harve...  \n",
       "4     John Carter is a war-weary, former military ca...  \n",
       "6     When the kingdom's most wanted-and most charmi...  \n",
       "8     As Harry begins his sixth year at Hogwarts, he...  \n",
       "...                                                 ...  \n",
       "4811  Friends/fledgling entrepreneurs invent a devic...  \n",
       "4813  El Mariachi just wants to play his guitar and ...  \n",
       "4814  A newlywed couple's honeymoon is upended by th...  \n",
       "4816  When ambitious New York attorney Sam is sent t...  \n",
       "4817  Ever since the second grade when he first saw ...  \n",
       "\n",
       "[2947 rows x 4 columns]"
      ]
     },
     "execution_count": 37,
     "metadata": {},
     "output_type": "execute_result"
    }
   ],
   "source": [
    "new"
   ]
  },
  {
   "cell_type": "code",
   "execution_count": 35,
   "id": "277d1b48",
   "metadata": {},
   "outputs": [
    {
     "data": {
      "text/plain": [
       "'Cameron’s epic can still thrill the audience with breathtaking set pieces, bring them to tears with moving moments, and amaze people willing to explore a fantasy land like no other., Avatar still elicits much of the same wide eyed wonderment., The emotional stakes presented in the final battle make it so powerful, going beyond the physical scale of the sequence and what the visual effects artists achieved to create a stunning, rousing piece of filmmaking., Thirteen years after its release, Avatar still proves to be an exceptional blockbuster that makes the most of a simple and predictable story, to develop a visually awesome and emotional experience that must be had in the cinema. Full review in Spanish. , The standard in modern blockbuster filmmaking. I don’t make the rules., A meaningful blockbuster that fails to play ignorant to craft or soul, it is no wonder that so many have fallen in love with the world of Pandora and the drama that takes place on it., W atching Avatar s 4K HDR format on IMAX 3D looks more incredible and visually stunning than the original 3D version in 2009., ...still a gorgeous sci fi epic, but the characters are nowhere near as detailed., Cameron and his artists have so lovingly imagined the moon of Pandora that every shot of the film contains new wonders., James Cameron’s been conjuring in his fevered imagination for as long as twenty years a true ripper. Of all the things that can and will be said about lt I gt Avatar lt I gt . is that it’s the one 2009 feature drawing from the War in Iraq that could make a mint., The same concepts are repeated over and over, and the sense of wonder gets lost progressively until it reaches a final struggle as spectacular as it is empty. Full review in Spanish , Functioning as both an action packed war movie and an allegory for our own beleaguered planet, Avatar smashes big set pieces together with big emotion to rousing effect., Five hundred million dollars wasted ., Absolutely astounding fantasy extravaganza. I was entirely immersed and immensely amazed. Avatar is a pure cinematic magic., With ground breaking cinematography and an amazing score delivered by James Horner to match, Avatar promises to set the ball rolling for the way films will look in the next decade., The level of detail and creativity surrounding the look of director James Camerons new world is simply astonishing. , Avatar is very nearly devoid of that spark of humanity that would allow the film to soar., ...as a member of the audience, I am happy enough to spend an afternoon communing with a society of blue creatures that look nothing like me., This is the evolution of entertainment. Full Review in Spanish , Avatar contains a metaphor against the invasion of foreign territories and civilizations, explained in two bad jokes about preventive war. Full Review in Spanish'"
      ]
     },
     "execution_count": 35,
     "metadata": {},
     "output_type": "execute_result"
    }
   ],
   "source": [
    "new['reviews'][0]"
   ]
  },
  {
   "cell_type": "code",
   "execution_count": 36,
   "id": "86b12d48",
   "metadata": {},
   "outputs": [
    {
     "data": {
      "text/plain": [
       "'In the 22nd century, a paraplegic Marine is dispatched to the moon Pandora on a unique mission, but becomes torn between following orders and protecting an alien civilization. Action Adventure Fantasy Science Fiction culture clash future space war space colony society space travel futuristic romance space alien tribe alien planet cgi marine soldier battle love affair anti war power relations mind and soul 3d Sam Worthington Zoe Saldana Sigourney Weaver '"
      ]
     },
     "execution_count": 36,
     "metadata": {},
     "output_type": "execute_result"
    }
   ],
   "source": [
    "new['tags'][0]"
   ]
  },
  {
   "cell_type": "code",
   "execution_count": 10,
   "id": "3562c1b4",
   "metadata": {},
   "outputs": [],
   "source": [
    "pooling_model = models.Pooling(word_embedding_model.get_word_embedding_dimension(), \n",
    "                                  pooling_mode_mean_tokens=True, \n",
    "                                  pooling_mode_cls_token=False, \n",
    "                                  pooling_mode_max_tokens=False\n",
    "                              )"
   ]
  },
  {
   "cell_type": "code",
   "execution_count": 11,
   "id": "7908a249",
   "metadata": {},
   "outputs": [],
   "source": [
    "# update the model\n",
    "sent_model = SentenceTransformer(modules=[word_embedding_model, pooling_model]).to(device)"
   ]
  },
  {
   "cell_type": "code",
   "execution_count": 27,
   "id": "9f701ad8",
   "metadata": {},
   "outputs": [],
   "source": [
    "train_examples = []\n",
    "\n",
    "for row in zip(new['tags'], new['reviews']):\n",
    "    train_examples.append(InputExample(texts=[row[0], row[1]]))"
   ]
  },
  {
   "cell_type": "code",
   "execution_count": 28,
   "id": "63f1d288",
   "metadata": {},
   "outputs": [],
   "source": [
    "train_dataloader = DataLoader(train_examples, shuffle=True, batch_size=1)\n",
    "# MultipleNegativesRankingLoss not trainable because gpu limitation\n",
    "# MegaBatchMarginLoss \n",
    "# MSELoss need labels\n",
    "train_loss = losses.MegaBatchMarginLoss(sent_model)"
   ]
  },
  {
   "cell_type": "code",
   "execution_count": 29,
   "id": "804f0b56",
   "metadata": {},
   "outputs": [
    {
     "data": {
      "application/vnd.jupyter.widget-view+json": {
       "model_id": "1ff7172e7dcd4bbb868092eb3657450f",
       "version_major": 2,
       "version_minor": 0
      },
      "text/plain": [
       "Epoch:   0%|          | 0/1 [00:00<?, ?it/s]"
      ]
     },
     "metadata": {},
     "output_type": "display_data"
    },
    {
     "data": {
      "application/vnd.jupyter.widget-view+json": {
       "model_id": "ad84749b36b74ab898aebe25883d3212",
       "version_major": 2,
       "version_minor": 0
      },
      "text/plain": [
       "Iteration:   0%|          | 0/2947 [00:00<?, ?it/s]"
      ]
     },
     "metadata": {},
     "output_type": "display_data"
    }
   ],
   "source": [
    "sent_model.fit(train_objectives=[(train_dataloader, train_loss)], epochs=1, warmup_steps=100)"
   ]
  },
  {
   "cell_type": "code",
   "execution_count": 30,
   "id": "544591e6",
   "metadata": {},
   "outputs": [],
   "source": [
    "descriptions = new['tags'].tolist()\n",
    "des_embeddings = []\n",
    "for i,des in enumerate(descriptions):\n",
    "    des_embeddings.append(sent_model.encode(des))"
   ]
  },
  {
   "cell_type": "code",
   "execution_count": 31,
   "id": "9f0d160f",
   "metadata": {},
   "outputs": [],
   "source": [
    "def recommend(query, model):\n",
    "    #Compute cosine-similarities with all embeddings \n",
    "    model.eval()\n",
    "    query_embedd = model.encode(query)\n",
    "    cosine_scores = util.pytorch_cos_sim(query_embedd, des_embeddings)\n",
    "    top5_matches = torch.argsort(cosine_scores, dim=-1, descending=True).tolist()[0][0:5]\n",
    "    return top5_matches"
   ]
  },
  {
   "cell_type": "code",
   "execution_count": 32,
   "id": "407e04df",
   "metadata": {},
   "outputs": [
    {
     "name": "stdout",
     "output_type": "stream",
     "text": [
      "movie_id                                                12228\n",
      "title                                      Inside Deep Throat\n",
      "reviews     S o much of the material is served up with a w...\n",
      "tags        In 1972, a seemingly typical shoestring budget...\n",
      "Name: 4128, dtype: object\n",
      "movie_id                                                20694\n",
      "title                                         Rugrats Go Wild\n",
      "reviews     Yes, there is some humor. Yes, there is some s...\n",
      "tags        Rugrats Go Wild is a 2003 crossover animated f...\n",
      "Name: 1871, dtype: object\n",
      "movie_id                                               188652\n",
      "title                            The Ghastly Love of Johnny X\n",
      "reviews     What makes this film work is the passion Paul ...\n",
      "tags        A truly mad concoction, blending 1950s juvenil...\n",
      "Name: 4166, dtype: object\n",
      "movie_id                                                16290\n",
      "title                                              Jackass 3D\n",
      "reviews     Impressively, the guys have learnt from their ...\n",
      "tags        Jackass 3D is a 3-D film and the third movie o...\n",
      "Name: 2107, dtype: object\n",
      "movie_id                                                13516\n",
      "title                                        Slacker Uprising\n",
      "reviews     Slacker Uprising is empty as protest satire go...\n",
      "tags        Slacker Uprising is a movie of Michael Moore's...\n",
      "Name: 4171, dtype: object\n"
     ]
    }
   ],
   "source": [
    "query_show_des = 'Its Godzilla versus the paper pushers'\n",
    "recommendded_results = recommend(query_show_des, sent_model)\n",
    "\n",
    "for index in recommendded_results:\n",
    "    print(new.iloc[index,:])"
   ]
  },
  {
   "cell_type": "code",
   "execution_count": 24,
   "id": "e8710529",
   "metadata": {},
   "outputs": [
    {
     "name": "stdout",
     "output_type": "stream",
     "text": [
      "movie_id                                               278316\n",
      "title                                 Da Sweet Blood of Jesus\n",
      "reviews     This is an intelligent conversation piece that...\n",
      "tags        A movie about human beings who are addicted to...\n",
      "Name: 4305, dtype: object\n",
      "movie_id                                                42497\n",
      "title                                          Pink Narcissus\n",
      "reviews     A bracing, gorgeous combination of beefcake im...\n",
      "tags        An erotic poem set in the fantasies of a young...\n",
      "Name: 4789, dtype: object\n",
      "movie_id                                                31535\n",
      "title                                   Chairman of the Board\n",
      "reviews                                             , , , , ,\n",
      "tags        A surfer becomes the head of a major company. ...\n",
      "Name: 3401, dtype: object\n",
      "movie_id                                               331745\n",
      "title                                                Top Spin\n",
      "reviews     Teens chase Olympic dreams in compelling sport...\n",
      "tags        Three teenagers' quest to qualify for the 2012...\n",
      "Name: 4727, dtype: object\n",
      "movie_id                                                14834\n",
      "title                                       Not Easily Broken\n",
      "reviews     The overwrought drama, cliched characters and ...\n",
      "tags        A car accident and shifting affections test th...\n",
      "Name: 3622, dtype: object\n"
     ]
    },
    {
     "name": "stderr",
     "output_type": "stream",
     "text": [
      "C:\\Users\\czhao\\anaconda3\\lib\\site-packages\\sentence_transformers\\util.py:39: UserWarning: Creating a tensor from a list of numpy.ndarrays is extremely slow. Please consider converting the list to a single numpy.ndarray with numpy.array() before converting to a tensor. (Triggered internally at  C:\\cb\\pytorch_1000000000000\\work\\torch\\csrc\\utils\\tensor_new.cpp:204.)\n",
      "  b = torch.tensor(b)\n"
     ]
    }
   ],
   "source": [
    "query_show_des = 'Its Godzilla versus the paper pushers'\n",
    "recommendded_results = recommend(query_show_des, sent_model)\n",
    "\n",
    "for index in recommendded_results:\n",
    "    print(new.iloc[index,:])"
   ]
  },
  {
   "cell_type": "code",
   "execution_count": 15,
   "id": "0e09cb9d",
   "metadata": {},
   "outputs": [],
   "source": [
    "import gc\n",
    "gc.collect()\n",
    "torch.cuda.empty_cache()"
   ]
  },
  {
   "cell_type": "code",
   "execution_count": 18,
   "id": "5fa680df",
   "metadata": {},
   "outputs": [
    {
     "name": "stdout",
     "output_type": "stream",
     "text": [
      "Initial GPU Usage\n",
      "| ID | GPU | MEM |\n",
      "------------------\n",
      "|  0 |  0% | 97% |\n",
      "GPU Usage after emptying the cache\n",
      "| ID | GPU | MEM |\n",
      "------------------\n",
      "|  0 |  2% |  5% |\n"
     ]
    }
   ],
   "source": [
    "import torch\n",
    "from GPUtil import showUtilization as gpu_usage\n",
    "from numba import cuda\n",
    "\n",
    "def free_gpu_cache():\n",
    "    print(\"Initial GPU Usage\")\n",
    "    gpu_usage()                             \n",
    "\n",
    "    torch.cuda.empty_cache()\n",
    "\n",
    "    cuda.select_device(0)\n",
    "    cuda.close()\n",
    "    cuda.select_device(0)\n",
    "\n",
    "    print(\"GPU Usage after emptying the cache\")\n",
    "    gpu_usage()\n",
    "\n",
    "free_gpu_cache()   "
   ]
  },
  {
   "cell_type": "code",
   "execution_count": 38,
   "id": "7eeb4e38",
   "metadata": {},
   "outputs": [
    {
     "data": {
      "text/plain": [
       "device(type='cuda')"
      ]
     },
     "execution_count": 38,
     "metadata": {},
     "output_type": "execute_result"
    }
   ],
   "source": [
    "device"
   ]
  },
  {
   "cell_type": "code",
   "execution_count": null,
   "id": "d282d907",
   "metadata": {},
   "outputs": [],
   "source": []
  }
 ],
 "metadata": {
  "kernelspec": {
   "display_name": "Python 3 (ipykernel)",
   "language": "python",
   "name": "python3"
  },
  "language_info": {
   "codemirror_mode": {
    "name": "ipython",
    "version": 3
   },
   "file_extension": ".py",
   "mimetype": "text/x-python",
   "name": "python",
   "nbconvert_exporter": "python",
   "pygments_lexer": "ipython3",
   "version": "3.9.12"
  }
 },
 "nbformat": 4,
 "nbformat_minor": 5
}

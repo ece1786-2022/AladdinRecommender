{
 "cells": [
  {
   "cell_type": "markdown",
   "id": "b8012be7",
   "metadata": {
    "id": "b8012be7"
   },
   "source": [
    "# Web Scraping"
   ]
  },
  {
   "cell_type": "markdown",
   "id": "5876b0ab",
   "metadata": {
    "id": "5876b0ab"
   },
   "source": [
    "### Import Dependencies "
   ]
  },
  {
   "cell_type": "code",
   "execution_count": 1,
   "id": "ZoBRSxgMMqy0",
   "metadata": {
    "colab": {
     "base_uri": "https://localhost:8080/",
     "height": 1000
    },
    "executionInfo": {
     "elapsed": 13262,
     "status": "ok",
     "timestamp": 1668574151515,
     "user": {
      "displayName": "Bruce",
      "userId": "09653054578395910103"
     },
     "user_tz": 300
    },
    "id": "ZoBRSxgMMqy0",
    "outputId": "63327ee5-fa92-4bd0-b04d-a9d2bd439c24"
   },
   "outputs": [
    {
     "name": "stderr",
     "output_type": "stream",
     "text": [
      "'apt' is not recognized as an internal or external command,\n",
      "operable program or batch file.\n"
     ]
    },
    {
     "name": "stdout",
     "output_type": "stream",
     "text": [
      "Requirement already satisfied: selenium in c:\\users\\zjche\\anaconda3\\lib\\site-packages (4.6.0)\n",
      "Requirement already satisfied: trio-websocket~=0.9 in c:\\users\\zjche\\anaconda3\\lib\\site-packages (from selenium) (0.9.2)\n",
      "Requirement already satisfied: trio~=0.17 in c:\\users\\zjche\\anaconda3\\lib\\site-packages (from selenium) (0.22.0)\n",
      "Requirement already satisfied: certifi>=2021.10.8 in c:\\users\\zjche\\anaconda3\\lib\\site-packages (from selenium) (2022.9.24)\n",
      "Requirement already satisfied: urllib3[socks]~=1.26 in c:\\users\\zjche\\anaconda3\\lib\\site-packages (from selenium) (1.26.9)\n",
      "Requirement already satisfied: sortedcontainers in c:\\users\\zjche\\anaconda3\\lib\\site-packages (from trio~=0.17->selenium) (2.4.0)\n",
      "Requirement already satisfied: attrs>=19.2.0 in c:\\users\\zjche\\anaconda3\\lib\\site-packages (from trio~=0.17->selenium) (21.4.0)\n",
      "Requirement already satisfied: cffi>=1.14 in c:\\users\\zjche\\anaconda3\\lib\\site-packages (from trio~=0.17->selenium) (1.15.0)\n",
      "Requirement already satisfied: exceptiongroup>=1.0.0rc9 in c:\\users\\zjche\\anaconda3\\lib\\site-packages (from trio~=0.17->selenium) (1.0.4)\n",
      "Requirement already satisfied: async-generator>=1.9 in c:\\users\\zjche\\anaconda3\\lib\\site-packages (from trio~=0.17->selenium) (1.10)\n",
      "Requirement already satisfied: idna in c:\\users\\zjche\\anaconda3\\lib\\site-packages (from trio~=0.17->selenium) (3.3)\n",
      "Requirement already satisfied: sniffio in c:\\users\\zjche\\anaconda3\\lib\\site-packages (from trio~=0.17->selenium) (1.2.0)\n",
      "Requirement already satisfied: outcome in c:\\users\\zjche\\anaconda3\\lib\\site-packages (from trio~=0.17->selenium) (1.2.0)\n",
      "Requirement already satisfied: wsproto>=0.14 in c:\\users\\zjche\\anaconda3\\lib\\site-packages (from trio-websocket~=0.9->selenium) (1.2.0)\n",
      "Requirement already satisfied: PySocks!=1.5.7,<2.0,>=1.5.6 in c:\\users\\zjche\\anaconda3\\lib\\site-packages (from urllib3[socks]~=1.26->selenium) (1.7.1)\n",
      "Requirement already satisfied: pycparser in c:\\users\\zjche\\anaconda3\\lib\\site-packages (from cffi>=1.14->trio~=0.17->selenium) (2.21)\n",
      "Requirement already satisfied: h11<1,>=0.9.0 in c:\\users\\zjche\\anaconda3\\lib\\site-packages (from wsproto>=0.14->trio-websocket~=0.9->selenium) (0.12.0)\n",
      "Requirement already satisfied: webdriver-manager in c:\\users\\zjche\\anaconda3\\lib\\site-packages (3.8.5)\n",
      "Requirement already satisfied: tqdm in c:\\users\\zjche\\anaconda3\\lib\\site-packages (from webdriver-manager) (4.64.0)\n",
      "Requirement already satisfied: requests in c:\\users\\zjche\\anaconda3\\lib\\site-packages (from webdriver-manager) (2.27.1)\n",
      "Requirement already satisfied: packaging in c:\\users\\zjche\\anaconda3\\lib\\site-packages (from webdriver-manager) (21.3)\n",
      "Requirement already satisfied: python-dotenv in c:\\users\\zjche\\anaconda3\\lib\\site-packages (from webdriver-manager) (0.21.0)\n",
      "Requirement already satisfied: pyparsing!=3.0.5,>=2.0.2 in c:\\users\\zjche\\anaconda3\\lib\\site-packages (from packaging->webdriver-manager) (3.0.4)\n",
      "Requirement already satisfied: certifi>=2017.4.17 in c:\\users\\zjche\\anaconda3\\lib\\site-packages (from requests->webdriver-manager) (2022.9.24)\n",
      "Requirement already satisfied: urllib3<1.27,>=1.21.1 in c:\\users\\zjche\\anaconda3\\lib\\site-packages (from requests->webdriver-manager) (1.26.9)\n",
      "Requirement already satisfied: charset-normalizer~=2.0.0 in c:\\users\\zjche\\anaconda3\\lib\\site-packages (from requests->webdriver-manager) (2.0.4)\n",
      "Requirement already satisfied: idna<4,>=2.5 in c:\\users\\zjche\\anaconda3\\lib\\site-packages (from requests->webdriver-manager) (3.3)\n",
      "Requirement already satisfied: colorama in c:\\users\\zjche\\anaconda3\\lib\\site-packages (from tqdm->webdriver-manager) (0.4.4)\n"
     ]
    }
   ],
   "source": [
    "!apt update\n",
    "!pip install selenium\n",
    "!pip install webdriver-manager"
   ]
  },
  {
   "cell_type": "code",
   "execution_count": 2,
   "id": "20edefb9",
   "metadata": {
    "id": "20edefb9"
   },
   "outputs": [],
   "source": [
    "import random\n",
    "import time\n",
    "import pandas as pd\n",
    "import numpy as np\n",
    "from bs4 import BeautifulSoup\n",
    "from datetime import datetime\n",
    "from selenium import webdriver\n",
    "from selenium.webdriver.common.by import By\n",
    "from selenium import webdriver\n",
    "\n",
    "#因为我用的edge浏览器，所以这里用的是edge driver，如果你电脑里装的是chrome，要换成chrome driver\n",
    "from selenium.webdriver.edge.service import Service as EdgeService\n",
    "from webdriver_manager.microsoft import EdgeChromiumDriverManager"
   ]
  },
  {
   "cell_type": "code",
   "execution_count": 3,
   "id": "1clXu2zGyIpy",
   "metadata": {
    "id": "1clXu2zGyIpy",
    "scrolled": true
   },
   "outputs": [
    {
     "data": {
      "text/html": [
       "<div>\n",
       "<style scoped>\n",
       "    .dataframe tbody tr th:only-of-type {\n",
       "        vertical-align: middle;\n",
       "    }\n",
       "\n",
       "    .dataframe tbody tr th {\n",
       "        vertical-align: top;\n",
       "    }\n",
       "\n",
       "    .dataframe thead th {\n",
       "        text-align: right;\n",
       "    }\n",
       "</style>\n",
       "<table border=\"1\" class=\"dataframe\">\n",
       "  <thead>\n",
       "    <tr style=\"text-align: right;\">\n",
       "      <th></th>\n",
       "      <th>movie_id</th>\n",
       "      <th>title</th>\n",
       "      <th>startYear</th>\n",
       "      <th>storyline</th>\n",
       "    </tr>\n",
       "  </thead>\n",
       "  <tbody>\n",
       "    <tr>\n",
       "      <th>0</th>\n",
       "      <td>19995</td>\n",
       "      <td>Avatar</td>\n",
       "      <td>2009</td>\n",
       "      <td>NaN</td>\n",
       "    </tr>\n",
       "    <tr>\n",
       "      <th>1</th>\n",
       "      <td>285</td>\n",
       "      <td>Pirates of the Caribbean: At World's End</td>\n",
       "      <td>2007</td>\n",
       "      <td>NaN</td>\n",
       "    </tr>\n",
       "    <tr>\n",
       "      <th>2</th>\n",
       "      <td>206647</td>\n",
       "      <td>Spectre</td>\n",
       "      <td>2015</td>\n",
       "      <td>NaN</td>\n",
       "    </tr>\n",
       "    <tr>\n",
       "      <th>3</th>\n",
       "      <td>49026</td>\n",
       "      <td>The Dark Knight Rises</td>\n",
       "      <td>2012</td>\n",
       "      <td>NaN</td>\n",
       "    </tr>\n",
       "    <tr>\n",
       "      <th>4</th>\n",
       "      <td>49529</td>\n",
       "      <td>John Carter</td>\n",
       "      <td>2012</td>\n",
       "      <td>NaN</td>\n",
       "    </tr>\n",
       "    <tr>\n",
       "      <th>5</th>\n",
       "      <td>559</td>\n",
       "      <td>Spider-Man 3</td>\n",
       "      <td>2007</td>\n",
       "      <td>NaN</td>\n",
       "    </tr>\n",
       "    <tr>\n",
       "      <th>6</th>\n",
       "      <td>38757</td>\n",
       "      <td>Tangled</td>\n",
       "      <td>2010</td>\n",
       "      <td>NaN</td>\n",
       "    </tr>\n",
       "    <tr>\n",
       "      <th>7</th>\n",
       "      <td>99861</td>\n",
       "      <td>Avengers: Age of Ultron</td>\n",
       "      <td>2015</td>\n",
       "      <td>NaN</td>\n",
       "    </tr>\n",
       "    <tr>\n",
       "      <th>8</th>\n",
       "      <td>767</td>\n",
       "      <td>Harry Potter and the Half-Blood Prince</td>\n",
       "      <td>2009</td>\n",
       "      <td>NaN</td>\n",
       "    </tr>\n",
       "    <tr>\n",
       "      <th>9</th>\n",
       "      <td>209112</td>\n",
       "      <td>Batman v Superman: Dawn of Justice</td>\n",
       "      <td>2016</td>\n",
       "      <td>NaN</td>\n",
       "    </tr>\n",
       "  </tbody>\n",
       "</table>\n",
       "</div>"
      ],
      "text/plain": [
       "   movie_id                                     title startYear storyline\n",
       "0     19995                                    Avatar      2009       NaN\n",
       "1       285  Pirates of the Caribbean: At World's End      2007       NaN\n",
       "2    206647                                   Spectre      2015       NaN\n",
       "3     49026                     The Dark Knight Rises      2012       NaN\n",
       "4     49529                               John Carter      2012       NaN\n",
       "5       559                              Spider-Man 3      2007       NaN\n",
       "6     38757                                   Tangled      2010       NaN\n",
       "7     99861                   Avengers: Age of Ultron      2015       NaN\n",
       "8       767    Harry Potter and the Half-Blood Prince      2009       NaN\n",
       "9    209112        Batman v Superman: Dawn of Justice      2016       NaN"
      ]
     },
     "execution_count": 3,
     "metadata": {},
     "output_type": "execute_result"
    }
   ],
   "source": [
    "info_df = pd.read_csv(\"../tmdb_5000_data/tmdb_5000_movies.csv\")\n",
    "info_df = info_df.drop_duplicates()\n",
    "info_df = info_df[['id', 'title','release_date']]\n",
    "info_df['release_date'] = pd.to_datetime(info_df['release_date'], format = \"%Y-%m-%d\").dt.strftime('%Y')\n",
    "info_df.rename(columns= {'id':'movie_id', 'release_date':'startYear'}, inplace = True)\n",
    "info_df[\"storyline\"] = np.nan\n",
    "info_df['storyline'] = info_df['storyline'].astype('object')\n",
    "info_df.head(10)"
   ]
  },
  {
   "cell_type": "code",
   "execution_count": 4,
   "id": "d33f9835",
   "metadata": {},
   "outputs": [
    {
     "name": "stderr",
     "output_type": "stream",
     "text": [
      "C:\\Users\\zjche\\AppData\\Local\\Temp\\ipykernel_37024\\690390642.py:1: DtypeWarning: Columns (4) have mixed types. Specify dtype option on import or set low_memory=False.\n",
      "  imdb_df = pd.read_csv('../tmdb_5000_data/data.tsv', sep = '\\t')\n"
     ]
    },
    {
     "data": {
      "text/html": [
       "<div>\n",
       "<style scoped>\n",
       "    .dataframe tbody tr th:only-of-type {\n",
       "        vertical-align: middle;\n",
       "    }\n",
       "\n",
       "    .dataframe tbody tr th {\n",
       "        vertical-align: top;\n",
       "    }\n",
       "\n",
       "    .dataframe thead th {\n",
       "        text-align: right;\n",
       "    }\n",
       "</style>\n",
       "<table border=\"1\" class=\"dataframe\">\n",
       "  <thead>\n",
       "    <tr style=\"text-align: right;\">\n",
       "      <th></th>\n",
       "      <th>imdb_id</th>\n",
       "      <th>title</th>\n",
       "      <th>startYear</th>\n",
       "    </tr>\n",
       "  </thead>\n",
       "  <tbody>\n",
       "    <tr>\n",
       "      <th>8</th>\n",
       "      <td>tt0000009</td>\n",
       "      <td>Miss Jerry</td>\n",
       "      <td>1894</td>\n",
       "    </tr>\n",
       "    <tr>\n",
       "      <th>144</th>\n",
       "      <td>tt0000147</td>\n",
       "      <td>The Corbett-Fitzsimmons Fight</td>\n",
       "      <td>1897</td>\n",
       "    </tr>\n",
       "    <tr>\n",
       "      <th>498</th>\n",
       "      <td>tt0000502</td>\n",
       "      <td>Bohemios</td>\n",
       "      <td>1905</td>\n",
       "    </tr>\n",
       "    <tr>\n",
       "      <th>570</th>\n",
       "      <td>tt0000574</td>\n",
       "      <td>The Story of the Kelly Gang</td>\n",
       "      <td>1906</td>\n",
       "    </tr>\n",
       "    <tr>\n",
       "      <th>587</th>\n",
       "      <td>tt0000591</td>\n",
       "      <td>The Prodigal Son</td>\n",
       "      <td>1907</td>\n",
       "    </tr>\n",
       "    <tr>\n",
       "      <th>610</th>\n",
       "      <td>tt0000615</td>\n",
       "      <td>Robbery Under Arms</td>\n",
       "      <td>1907</td>\n",
       "    </tr>\n",
       "    <tr>\n",
       "      <th>625</th>\n",
       "      <td>tt0000630</td>\n",
       "      <td>Hamlet</td>\n",
       "      <td>1908</td>\n",
       "    </tr>\n",
       "    <tr>\n",
       "      <th>668</th>\n",
       "      <td>tt0000675</td>\n",
       "      <td>Don Quijote</td>\n",
       "      <td>1908</td>\n",
       "    </tr>\n",
       "    <tr>\n",
       "      <th>672</th>\n",
       "      <td>tt0000679</td>\n",
       "      <td>The Fairylogue and Radio-Plays</td>\n",
       "      <td>1908</td>\n",
       "    </tr>\n",
       "    <tr>\n",
       "      <th>828</th>\n",
       "      <td>tt0000838</td>\n",
       "      <td>A Cultura do Cacau</td>\n",
       "      <td>1909</td>\n",
       "    </tr>\n",
       "  </tbody>\n",
       "</table>\n",
       "</div>"
      ],
      "text/plain": [
       "       imdb_id                           title startYear\n",
       "8    tt0000009                      Miss Jerry      1894\n",
       "144  tt0000147   The Corbett-Fitzsimmons Fight      1897\n",
       "498  tt0000502                        Bohemios      1905\n",
       "570  tt0000574     The Story of the Kelly Gang      1906\n",
       "587  tt0000591                The Prodigal Son      1907\n",
       "610  tt0000615              Robbery Under Arms      1907\n",
       "625  tt0000630                          Hamlet      1908\n",
       "668  tt0000675                     Don Quijote      1908\n",
       "672  tt0000679  The Fairylogue and Radio-Plays      1908\n",
       "828  tt0000838              A Cultura do Cacau      1909"
      ]
     },
     "execution_count": 4,
     "metadata": {},
     "output_type": "execute_result"
    }
   ],
   "source": [
    "imdb_df = pd.read_csv('../tmdb_5000_data/data.tsv', sep = '\\t')\n",
    "imdb_df = imdb_df[imdb_df['titleType'] == 'movie']\n",
    "imdb_df = imdb_df[['tconst', 'primaryTitle','startYear']]\n",
    "imdb_df['startYear'] = imdb_df['startYear'].replace('\\n','').astype(str)\n",
    "imdb_df.rename(columns= {'tconst':'imdb_id', 'primaryTitle':'title'}, inplace = True)\n",
    "imdb_df.head(10)"
   ]
  },
  {
   "cell_type": "code",
   "execution_count": 5,
   "id": "7b227820",
   "metadata": {},
   "outputs": [
    {
     "data": {
      "text/html": [
       "<div>\n",
       "<style scoped>\n",
       "    .dataframe tbody tr th:only-of-type {\n",
       "        vertical-align: middle;\n",
       "    }\n",
       "\n",
       "    .dataframe tbody tr th {\n",
       "        vertical-align: top;\n",
       "    }\n",
       "\n",
       "    .dataframe thead th {\n",
       "        text-align: right;\n",
       "    }\n",
       "</style>\n",
       "<table border=\"1\" class=\"dataframe\">\n",
       "  <thead>\n",
       "    <tr style=\"text-align: right;\">\n",
       "      <th></th>\n",
       "      <th>index</th>\n",
       "      <th>movie_id</th>\n",
       "      <th>title</th>\n",
       "      <th>startYear</th>\n",
       "      <th>storyline</th>\n",
       "      <th>imdb_id</th>\n",
       "    </tr>\n",
       "  </thead>\n",
       "  <tbody>\n",
       "    <tr>\n",
       "      <th>0</th>\n",
       "      <td>0</td>\n",
       "      <td>19995</td>\n",
       "      <td>Avatar</td>\n",
       "      <td>2009</td>\n",
       "      <td>NaN</td>\n",
       "      <td>tt0499549</td>\n",
       "    </tr>\n",
       "    <tr>\n",
       "      <th>1</th>\n",
       "      <td>1</td>\n",
       "      <td>285</td>\n",
       "      <td>Pirates of the Caribbean: At World's End</td>\n",
       "      <td>2007</td>\n",
       "      <td>NaN</td>\n",
       "      <td>tt0449088</td>\n",
       "    </tr>\n",
       "    <tr>\n",
       "      <th>2</th>\n",
       "      <td>2</td>\n",
       "      <td>206647</td>\n",
       "      <td>Spectre</td>\n",
       "      <td>2015</td>\n",
       "      <td>NaN</td>\n",
       "      <td>tt2379713</td>\n",
       "    </tr>\n",
       "    <tr>\n",
       "      <th>3</th>\n",
       "      <td>3</td>\n",
       "      <td>49026</td>\n",
       "      <td>The Dark Knight Rises</td>\n",
       "      <td>2012</td>\n",
       "      <td>NaN</td>\n",
       "      <td>tt1345836</td>\n",
       "    </tr>\n",
       "    <tr>\n",
       "      <th>4</th>\n",
       "      <td>4</td>\n",
       "      <td>49529</td>\n",
       "      <td>John Carter</td>\n",
       "      <td>2012</td>\n",
       "      <td>NaN</td>\n",
       "      <td>tt0401729</td>\n",
       "    </tr>\n",
       "  </tbody>\n",
       "</table>\n",
       "</div>"
      ],
      "text/plain": [
       "   index  movie_id                                     title startYear  \\\n",
       "0      0     19995                                    Avatar      2009   \n",
       "1      1       285  Pirates of the Caribbean: At World's End      2007   \n",
       "2      2    206647                                   Spectre      2015   \n",
       "3      3     49026                     The Dark Knight Rises      2012   \n",
       "4      4     49529                               John Carter      2012   \n",
       "\n",
       "  storyline    imdb_id  \n",
       "0       NaN  tt0499549  \n",
       "1       NaN  tt0449088  \n",
       "2       NaN  tt2379713  \n",
       "3       NaN  tt1345836  \n",
       "4       NaN  tt0401729  "
      ]
     },
     "execution_count": 5,
     "metadata": {},
     "output_type": "execute_result"
    }
   ],
   "source": [
    "full_df = info_df.merge(imdb_df, how = 'inner',on = ['title', 'startYear'])\n",
    "full_df = full_df.reset_index()\n",
    "full_df.head()"
   ]
  },
  {
   "cell_type": "markdown",
   "id": "77187fd5",
   "metadata": {
    "id": "77187fd5"
   },
   "source": [
    "### Define url function"
   ]
  },
  {
   "cell_type": "code",
   "execution_count": 6,
   "id": "d2685a63",
   "metadata": {
    "id": "d2685a63"
   },
   "outputs": [],
   "source": [
    "def get_url(movie_name):\n",
    "    url_template = \"https://www.imdb.com/title/{}/\"\n",
    "    url = url_template.format(movie_name)\n",
    "    return url"
   ]
  },
  {
   "cell_type": "markdown",
   "id": "308931c4",
   "metadata": {
    "id": "308931c4"
   },
   "source": [
    "### Scrape movie reviews from critics"
   ]
  },
  {
   "cell_type": "code",
   "execution_count": null,
   "id": "115efb65",
   "metadata": {
    "executionInfo": {
     "elapsed": 14060,
     "status": "aborted",
     "timestamp": 1668574152244,
     "user": {
      "displayName": "Bruce",
      "userId": "09653054578395910103"
     },
     "user_tz": 300
    },
    "id": "115efb65",
    "outputId": "cdb09b8c-144e-45f1-df9f-92e9bc3a5d2d"
   },
   "outputs": [
    {
     "name": "stdout",
     "output_type": "stream",
     "text": [
      "1: story added for movie: Shanghai Calling\n",
      "2: story added for movie: Newlyweds\n",
      "3: story added for movie: El Mariachi\n",
      "4: story added for movie: Cavite\n",
      "5: story added for movie: Primer\n",
      "6: story added for movie: Bang\n",
      "7: story added for movie: Cure\n",
      "8: story added for movie: Tin Can Man\n",
      "9: story added for movie: The Circle\n",
      "10: story added for movie: Clean\n",
      "11: story added for movie: Clean\n",
      "12: story added for movie: Pink Flamingos\n",
      "13: story added for movie: All Superheroes Must Die\n",
      "14: story added for movie: Breaking Upwards\n"
     ]
    }
   ],
   "source": [
    "import re\n",
    "\n",
    "#create driver instance.\n",
    "driver = webdriver.Edge(service=EdgeService(EdgeChromiumDriverManager().install()))\n",
    "\n",
    "#iterate through index, reverse() is called so it is easier to see the result and debug. \n",
    "indexes = full_df.index.tolist()\n",
    "indexes.reverse()\n",
    "movie_num=0\n",
    "for i in indexes:\n",
    "    movie_num += 1\n",
    "    name_og = full_df['title'].iloc[i]\n",
    "    imdb_id = full_df['imdb_id'].iloc[i]\n",
    "    \n",
    "    driver.get(get_url(imdb_id)) #The entire website's html file\n",
    "    \n",
    "    #driver.implicitly_wait(0.1)     #Wait time to avoid human verification, \n",
    "    storylines = driver.find_elements(By.CLASS_NAME, 'ipc-html-content-inner-div') #Find specific element/elements by class name\n",
    "    story_collections = []     \n",
    "    for storyline in storylines:\n",
    "        result_html = storyline.get_attribute('innerHTML')\n",
    "        soup = BeautifulSoup(result_html, 'html.parser') #Process the driver-returned elements.\n",
    "        \n",
    "        story_collections.append(str(soup).strip())\n",
    "    \n",
    "    full_df.at[i, 'storyline'] = story_collections\n",
    "    print(\"{}: story added for movie: {}\".format(movie_num, name_og))\n",
    "driver.quit()"
   ]
  },
  {
   "cell_type": "code",
   "execution_count": null,
   "id": "47172ece",
   "metadata": {},
   "outputs": [],
   "source": [
    "full_df"
   ]
  },
  {
   "cell_type": "markdown",
   "id": "72e6ac4a",
   "metadata": {
    "id": "72e6ac4a"
   },
   "source": [
    "### Save results"
   ]
  },
  {
   "cell_type": "code",
   "execution_count": null,
   "id": "f4626f96",
   "metadata": {
    "id": "f4626f96"
   },
   "outputs": [],
   "source": [
    "# Convert the dataframe to a csv file\n",
    "date = datetime.today().strftime('%Y-%m-%d')\n",
    "full_df.to_csv(date + \"movie_with_imdb_storyline.csv\", index=False)"
   ]
  },
  {
   "cell_type": "markdown",
   "id": "7c5aad1f",
   "metadata": {},
   "source": [
    "### Some unfinished data cleaning process"
   ]
  },
  {
   "cell_type": "code",
   "execution_count": null,
   "id": "80d6f5b2",
   "metadata": {},
   "outputs": [],
   "source": [
    "# read csv \n",
    "full_df = pd.read_csv(date +\"movie_with_imdb_storyline.csv\")"
   ]
  },
  {
   "cell_type": "code",
   "execution_count": null,
   "id": "0493354d",
   "metadata": {},
   "outputs": [],
   "source": [
    "len(full_df.loc[0]['reviews'])"
   ]
  },
  {
   "cell_type": "code",
   "execution_count": null,
   "id": "4f56fa29",
   "metadata": {},
   "outputs": [],
   "source": [
    "for i in indexes:\n",
    "    if len(full_df.loc[i]['reviews']) < 4:\n",
    "        full_df.drop(i, axis =0, inplace = True)\n",
    "full_df"
   ]
  },
  {
   "cell_type": "code",
   "execution_count": null,
   "id": "07ec4045",
   "metadata": {},
   "outputs": [],
   "source": []
  }
 ],
 "metadata": {
  "colab": {
   "provenance": []
  },
  "kernelspec": {
   "display_name": "Python 3 (ipykernel)",
   "language": "python",
   "name": "python3"
  },
  "language_info": {
   "codemirror_mode": {
    "name": "ipython",
    "version": 3
   },
   "file_extension": ".py",
   "mimetype": "text/x-python",
   "name": "python",
   "nbconvert_exporter": "python",
   "pygments_lexer": "ipython3",
   "version": "3.9.12"
  }
 },
 "nbformat": 4,
 "nbformat_minor": 5
}
